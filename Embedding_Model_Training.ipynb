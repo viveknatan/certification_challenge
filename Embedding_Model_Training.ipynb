{
 "cells": [
  {
   "cell_type": "code",
   "execution_count": 1,
   "metadata": {
    "id": "JpS0DGgsF1A7"
   },
   "outputs": [],
   "source": [
    "import nest_asyncio\n",
    "\n",
    "nest_asyncio.apply()"
   ]
  },
  {
   "cell_type": "code",
   "execution_count": 2,
   "metadata": {
    "colab": {
     "base_uri": "https://localhost:8080/"
    },
    "id": "7PJT3QpuGNNz",
    "outputId": "781f8024-d85d-4cd2-dbb0-d204676fa859"
   },
   "outputs": [
    {
     "name": "stdout",
     "output_type": "stream",
     "text": [
      "\u001b[31mERROR: pip's dependency resolver does not currently take into account all the packages that are installed. This behaviour is the source of the following dependency conflicts.\n",
      "gcsfs 2025.3.2 requires fsspec==2025.3.2, but you have fsspec 2025.3.0 which is incompatible.\n",
      "pylibcudf-cu12 25.2.1 requires pyarrow<20.0.0a0,>=14.0.0; platform_machine == \"x86_64\", but you have pyarrow 20.0.0 which is incompatible.\n",
      "cudf-cu12 25.2.1 requires pyarrow<20.0.0a0,>=14.0.0; platform_machine == \"x86_64\", but you have pyarrow 20.0.0 which is incompatible.\u001b[0m\u001b[31m\n",
      "\u001b[0m"
     ]
    }
   ],
   "source": [
    "!pip install -qU langchain_openai>=0.3.4 \\\n",
    "langchain_huggingface \\\n",
    "langchain_core>=0.3.34 \\\n",
    "langchain>=0.3.18 \\\n",
    "langchain_community>=0.3.17 \\\n",
    "langchain-text-splitters>=0.3.6 \\\n",
    "datasets>=3.2.0 \\\n",
    "faiss-cpu \\\n",
    "python-pptx==1.0.2 \\\n",
    "nltk==3.9.1 \\\n",
    "pymupdf \\\n",
    "beautifulsoup4 \\\n",
    "lxml \\\n",
    "sentence_transformers \\\n",
    "pyarrow \\\n",
    "langchain_qdrant"
   ]
  },
  {
   "cell_type": "code",
   "execution_count": 3,
   "metadata": {
    "colab": {
     "base_uri": "https://localhost:8080/"
    },
    "id": "ydT3A_tTGfx0",
    "outputId": "844cf6f5-7a85-4f2e-950c-d982d3254770"
   },
   "outputs": [
    {
     "name": "stdout",
     "output_type": "stream",
     "text": [
      "Enter Your OpenAI API Key: ··········\n"
     ]
    }
   ],
   "source": [
    "import os\n",
    "import getpass\n",
    "\n",
    "os.environ[\"OPENAI_API_KEY\"] = getpass.getpass(\"Enter Your OpenAI API Key: \")"
   ]
  },
  {
   "cell_type": "code",
   "execution_count": 4,
   "metadata": {
    "colab": {
     "base_uri": "https://localhost:8080/",
     "height": 369,
     "referenced_widgets": [
      "63dca19a189d4e4cbb418177829c6e03",
      "4afd8be1b3ce4b1fb9eff505f92f1bf1",
      "8730709be2e544aea15fd5040988ba29",
      "82a018bcfe444349b61385c65bfa9025",
      "be56eafac30b43c5a83f2480e8d4cfa6",
      "e79f34d15c15477c968d4dff551f92a6",
      "efd3a24ac65341889b71ea4d36e3068c",
      "8d20c78820cd4b3fbf5a88ce8a5a2f1c",
      "41c1b68aa8684203813438a3715b4b1c",
      "b0000e4170f744e0bdfd85425054514b",
      "d1aa82795d49415483d1ff0b6fb52e13",
      "c0a748f2cb6048ecaa59c19da239c0e8",
      "9080cd114e034296a20d803a076dee76",
      "71f196f305ba4bf49485ca7e9a07cd44",
      "5f5fc8414925465d9e2fa54efc16c435",
      "a30525e826494eb88a2f3d28c6fe8598",
      "b2686eb6b32847df926b4d22f22cd072",
      "6d80379cbb05474b8901f60261791250",
      "4f0101369c2849eeb39f3b83699b4cce",
      "fc858d48a7d147299e1fb93fdf3c9716",
      "77c4393c7e99465c84fffb584079e96c",
      "b359b2d929614f578a1607e2da1e23e4",
      "05aa4138443442feb9401ec7ac4e3f9d",
      "1720c091b2744a6292bae9ce558b6535",
      "33dbe5557a66482481b200396ae11239",
      "2293801cf0ab4de482d3cfcf9b45859a",
      "b9ab9c73496b48498b69b2b5a6bc0329",
      "a27591dd933e41fa9299d8a4fecdb3d3",
      "f65707c3e41c45c889f11e8be98e4f15",
      "6fe624919dee403e97cbbbe876dd7f73",
      "022316e821b44315a83cdd95ccc4e81c",
      "c0477d2cea29493db391c1226c608aeb",
      "1b574ac05cd64bcbb8fe1c73bdc498da",
      "47ce9def656e468fa9dee373c30c4d6f",
      "ba6354578e1e4e3fbe9ae2d6f249a4fa",
      "79bcc9f629824d73aaab4567d0060d15",
      "eec2356593b54a67b772ab9b4923b01b",
      "9f5cfb5c264a450ea9a87c425cdce73b",
      "d873ad85eaf04d4f94544a4c81ddd95a",
      "57723fce1a4b457f8bf57a4cb1df129a",
      "91c3d8da2f5a4c42ba089c16532a3111",
      "df6f44dbc5404d5b96db69632e6955d3",
      "afa95b102d874af3a97aea197cddb23d",
      "f45da68401b44aa0932cb9609e38f674",
      "66e3aad6a1b646a797f12c83ffedb15f",
      "baa468f3aae44ba28d656859507fc23e",
      "d668cbaeb8864db7aed28ad2cbdf69d3",
      "e47c25c9b45049dd93c5bad1ac953643",
      "76f30161c03443b6b54ad7348251feae",
      "b6292a73c6ba4667afbdbeef8b49756b",
      "22f48acb7234468daef3fd2cd805f89d",
      "116739251d4c4f06a513428a4d2d94d3",
      "6344176e4c1545e98e37d8f6e38a55a8",
      "f5fa725ccb3a47759127af3e5f909356",
      "4262205d5ba3446f85dfafa21ff80471",
      "c2efc199701946dc989146222f1236b8",
      "17c8f71eec0e41ce92b70f2b741a7e16",
      "177617d13e73465fb7740e59a05d2713",
      "72787449e51e4d7dbe553078df588b4b",
      "d5e2191175634a20b7492f7203451a14",
      "412db480ca4a464f9c3acdf8e6505a3e",
      "d464044d1d6f4a7ebaeba9e5e8a2b61e",
      "a2c7e7d9c9a6491a8d8616d3c7c18ec9",
      "1eab4e8f200340b1bd75b259e7d66d22",
      "1d1419fe27d948f08ec0e94310f21749",
      "5f037e74ff0a4c0c83770bc58959d499",
      "f870ad9746934b3e9f7dd72e53975aab",
      "30da00f513464e4986ca002a4fd872d0",
      "28aefa3759bc479998f47e533c67b3fc",
      "9f0d5ff0f6cf4fea85004cd20819d7e0",
      "f1008df90369424293eba5d4c54242ba",
      "68fef6adbde94cc8962f287b50c7983e",
      "6aa7be44323f40e689370cb6ceac498a",
      "172e51722091493fb8b7e35557797595",
      "3f791a20572845bb800aa36d98ba43fd",
      "2c6182bf120c42c987dcaa7c83f3d4bb",
      "ef7a7920beae46d68c5756958f790b4f",
      "d723cb8341ed43e4a80b6089e8131d66",
      "d83076b87c0e4bb4987d58c93975bfbd",
      "3a8a128106304636af4ba2583d12035e",
      "17cca65a7e804edebcdaa1065648b294",
      "d7799094706342a4854c250d5ce5b6a7",
      "32064662f6564be7a55397639ab8049b",
      "c717d3ecd88a4e388e9d17e6c49a54a1",
      "ed9078259f4741f2a479680887e9828f",
      "c5754e0ab15e4620adb197dfe31ae8d9",
      "142732b818744a8aab44c85369b58f40",
      "eab7bf15fab84881a75f8ce7285d6d6b",
      "71cfa1725dd448f78d2d370a6d6e4f1c",
      "be7b40d8677c4b63b071e699f897e42b",
      "e09db8466b59450e8d2299123b30eed0",
      "6592f364c1734389aec2cb3ba9bd5f15",
      "5b9b13a77a5147beb7254f810e36654b",
      "a115a578cef145d7998cff07322640c5",
      "84c51eb0e9e3497387de3f5197de5dfd",
      "b305006f5b2d43ed8483e27fc93356e6",
      "9665584d74474f298a2c8a1ee9686195",
      "8adbe41a084c401eaef55ccc55b768ff",
      "2aaed265c60f421c9bdd989c18baac5b",
      "89ab36ab55a84a429a448fdd030d04df",
      "cae8209740904ac3a8df0a8a7c7b9b3a",
      "12b2380211b14bbc998eb6ef19086dd7",
      "710705e90703479888a3dcfa6338d5f2",
      "b8388d6c820b44f1a273ab98b73652c8",
      "fe3543acb3974de3961bd9bf0fa8e590",
      "5e54a42e431a4107a0a106f4fe49d4fb",
      "ee69afa9cfcd419f8d3db9687db270df",
      "f63b84e4c2594b2dbe72ff69f8c0f47d",
      "920be12c2e924c6bb5a3f06ebea0e183",
      "9174342cfb72431bbaefb63f7ae427ee",
      "fa370235e5ac41c3b5a40a35ff28637f",
      "a270bd98d9dc429693230ba5a8db41d9",
      "04cef9d57c8c488684bf7328d458c0f8",
      "8642849c27a04f329ba6f80978bd0750",
      "caf67dc5090947f1b4f08baaaac4385f",
      "eb92dadc003a4fd6b30aaae67f61c8d2",
      "ca8b1386979943d9a37456259c1bcf64",
      "456772505eb0420a9a3d544d363d5984",
      "00593b08a8d444eba06fcf6347485afc",
      "d0634c16dbaf40409f5e26422b7a8d7a",
      "eb2c6a6062d0404298e1c577c376d2ef"
     ]
    },
    "id": "7bX4TcN8Gjib",
    "outputId": "71e54cc8-77b8-4c55-9c2f-13a75283d36e"
   },
   "outputs": [
    {
     "data": {
      "application/vnd.jupyter.widget-view+json": {
       "model_id": "63dca19a189d4e4cbb418177829c6e03",
       "version_major": 2,
       "version_minor": 0
      },
      "text/plain": [
       "modules.json:   0%|          | 0.00/349 [00:00<?, ?B/s]"
      ]
     },
     "metadata": {},
     "output_type": "display_data"
    },
    {
     "data": {
      "application/vnd.jupyter.widget-view+json": {
       "model_id": "c0a748f2cb6048ecaa59c19da239c0e8",
       "version_major": 2,
       "version_minor": 0
      },
      "text/plain": [
       "config_sentence_transformers.json:   0%|          | 0.00/252 [00:00<?, ?B/s]"
      ]
     },
     "metadata": {},
     "output_type": "display_data"
    },
    {
     "data": {
      "application/vnd.jupyter.widget-view+json": {
       "model_id": "05aa4138443442feb9401ec7ac4e3f9d",
       "version_major": 2,
       "version_minor": 0
      },
      "text/plain": [
       "README.md:   0%|          | 0.00/85.4k [00:00<?, ?B/s]"
      ]
     },
     "metadata": {},
     "output_type": "display_data"
    },
    {
     "data": {
      "application/vnd.jupyter.widget-view+json": {
       "model_id": "47ce9def656e468fa9dee373c30c4d6f",
       "version_major": 2,
       "version_minor": 0
      },
      "text/plain": [
       "sentence_bert_config.json:   0%|          | 0.00/107 [00:00<?, ?B/s]"
      ]
     },
     "metadata": {},
     "output_type": "display_data"
    },
    {
     "data": {
      "application/vnd.jupyter.widget-view+json": {
       "model_id": "66e3aad6a1b646a797f12c83ffedb15f",
       "version_major": 2,
       "version_minor": 0
      },
      "text/plain": [
       "config.json:   0%|          | 0.00/704 [00:00<?, ?B/s]"
      ]
     },
     "metadata": {},
     "output_type": "display_data"
    },
    {
     "data": {
      "application/vnd.jupyter.widget-view+json": {
       "model_id": "c2efc199701946dc989146222f1236b8",
       "version_major": 2,
       "version_minor": 0
      },
      "text/plain": [
       "model.safetensors:   0%|          | 0.00/1.34G [00:00<?, ?B/s]"
      ]
     },
     "metadata": {},
     "output_type": "display_data"
    },
    {
     "data": {
      "application/vnd.jupyter.widget-view+json": {
       "model_id": "f870ad9746934b3e9f7dd72e53975aab",
       "version_major": 2,
       "version_minor": 0
      },
      "text/plain": [
       "tokenizer_config.json:   0%|          | 0.00/1.38k [00:00<?, ?B/s]"
      ]
     },
     "metadata": {},
     "output_type": "display_data"
    },
    {
     "data": {
      "application/vnd.jupyter.widget-view+json": {
       "model_id": "d723cb8341ed43e4a80b6089e8131d66",
       "version_major": 2,
       "version_minor": 0
      },
      "text/plain": [
       "vocab.txt:   0%|          | 0.00/232k [00:00<?, ?B/s]"
      ]
     },
     "metadata": {},
     "output_type": "display_data"
    },
    {
     "data": {
      "application/vnd.jupyter.widget-view+json": {
       "model_id": "71cfa1725dd448f78d2d370a6d6e4f1c",
       "version_major": 2,
       "version_minor": 0
      },
      "text/plain": [
       "tokenizer.json:   0%|          | 0.00/712k [00:00<?, ?B/s]"
      ]
     },
     "metadata": {},
     "output_type": "display_data"
    },
    {
     "data": {
      "application/vnd.jupyter.widget-view+json": {
       "model_id": "89ab36ab55a84a429a448fdd030d04df",
       "version_major": 2,
       "version_minor": 0
      },
      "text/plain": [
       "special_tokens_map.json:   0%|          | 0.00/695 [00:00<?, ?B/s]"
      ]
     },
     "metadata": {},
     "output_type": "display_data"
    },
    {
     "data": {
      "application/vnd.jupyter.widget-view+json": {
       "model_id": "fa370235e5ac41c3b5a40a35ff28637f",
       "version_major": 2,
       "version_minor": 0
      },
      "text/plain": [
       "config.json:   0%|          | 0.00/297 [00:00<?, ?B/s]"
      ]
     },
     "metadata": {},
     "output_type": "display_data"
    }
   ],
   "source": [
    "from sentence_transformers import SentenceTransformer\n",
    "\n",
    "model_id = \"Snowflake/snowflake-arctic-embed-l\"\n",
    "model = SentenceTransformer(model_id)"
   ]
  },
  {
   "cell_type": "code",
   "execution_count": 5,
   "metadata": {
    "id": "gjBX5wP7G6Ux"
   },
   "outputs": [],
   "source": [
    "  import json\n",
    "\n",
    "  with open('/content/drive/MyDrive/MedicarePilot/json_files/test_dataset.jsonl', 'r') as f:\n",
    "    test_dataset = json.load(f)\n",
    "\n",
    "  with open('/content/drive/MyDrive/MedicarePilot/json_files/training_dataset.jsonl', 'r') as f:\n",
    "    train_dataset = json.load(f)\n",
    "\n",
    "  with open('/content/drive/MyDrive/MedicarePilot/json_files/val_dataset.jsonl', 'r') as f:\n",
    "    val_dataset = json.load(f)"
   ]
  },
  {
   "cell_type": "code",
   "execution_count": 6,
   "metadata": {
    "id": "XcLF5tDyIcKJ"
   },
   "outputs": [],
   "source": [
    "from torch.utils.data import DataLoader\n",
    "from torch.utils.data import Dataset\n",
    "from sentence_transformers import InputExample"
   ]
  },
  {
   "cell_type": "code",
   "execution_count": 7,
   "metadata": {
    "id": "buNsRKAMIfZr"
   },
   "outputs": [],
   "source": [
    "BATCH_SIZE = 10"
   ]
  },
  {
   "cell_type": "code",
   "execution_count": 8,
   "metadata": {
    "id": "oGMx8GEgIjMI"
   },
   "outputs": [],
   "source": [
    "\n",
    "corpus = train_dataset['corpus']\n",
    "queries = train_dataset['questions']\n",
    "relevant_docs = train_dataset['relevant_contexts']\n",
    "\n",
    "examples = []\n",
    "for query_id, query in queries.items():\n",
    "    doc_id = relevant_docs[query_id][0]\n",
    "    text = corpus[doc_id]\n",
    "    example = InputExample(texts=[query, text])\n",
    "    examples.append(example)"
   ]
  },
  {
   "cell_type": "code",
   "execution_count": 9,
   "metadata": {
    "id": "XX1ySKdgIqWe"
   },
   "outputs": [],
   "source": [
    "loader = DataLoader(\n",
    "    examples, batch_size=BATCH_SIZE\n",
    ")"
   ]
  },
  {
   "cell_type": "code",
   "execution_count": 10,
   "metadata": {
    "id": "07g0gDQQIrSG"
   },
   "outputs": [],
   "source": [
    "from sentence_transformers.losses import MatryoshkaLoss, MultipleNegativesRankingLoss\n",
    "\n",
    "matryoshka_dimensions = [768, 512, 256, 128, 64]\n",
    "inner_train_loss = MultipleNegativesRankingLoss(model)\n",
    "train_loss = MatryoshkaLoss(\n",
    "    model, inner_train_loss, matryoshka_dims=matryoshka_dimensions\n",
    ")"
   ]
  },
  {
   "cell_type": "code",
   "execution_count": 11,
   "metadata": {
    "id": "tzf0Tk1fIwJT"
   },
   "outputs": [],
   "source": [
    "from sentence_transformers.evaluation import InformationRetrievalEvaluator\n",
    "\n",
    "corpus = val_dataset['corpus']\n",
    "queries = val_dataset['questions']\n",
    "relevant_docs = val_dataset['relevant_contexts']\n",
    "\n",
    "evaluator = InformationRetrievalEvaluator(queries, corpus, relevant_docs)"
   ]
  },
  {
   "cell_type": "code",
   "execution_count": 12,
   "metadata": {
    "id": "oJl9X_sAIy3w"
   },
   "outputs": [],
   "source": [
    "EPOCHS = 10"
   ]
  },
  {
   "cell_type": "code",
   "execution_count": 13,
   "metadata": {
    "colab": {
     "base_uri": "https://localhost:8080/",
     "height": 35
    },
    "id": "kmkn0VF2Iz4X",
    "outputId": "ecbcc52c-bab4-45c3-a19a-fa39863a9e8a"
   },
   "outputs": [
    {
     "data": {
      "text/html": [
       "<button onClick=\"this.nextSibling.style.display='block';this.style.display='none';\">Display W&B run</button><iframe src='https://wandb.ai/dummy/dummy/runs/0w6g1kde?jupyter=true' style='border:none;width:100%;height:420px;display:none;'></iframe>"
      ],
      "text/plain": [
       "<wandb.sdk.wandb_run.Run at 0x7b32b0a556d0>"
      ]
     },
     "execution_count": 13,
     "metadata": {},
     "output_type": "execute_result"
    }
   ],
   "source": [
    "import wandb\n",
    "wandb.init(mode=\"disabled\")"
   ]
  },
  {
   "cell_type": "code",
   "execution_count": 14,
   "metadata": {
    "colab": {
     "base_uri": "https://localhost:8080/",
     "height": 997,
     "referenced_widgets": [
      "492e213c0ba94903b55b6a71d8e7f89a",
      "1a8945059f394ed5b8a646f33e4a63fb",
      "845e91d8ce714c67bd891142e2a7469c",
      "d1b320fdf5c94e03b017881e35674c6b",
      "472b3ee6b7fe49ef9f22fc3498ac51f9",
      "6b203dad99944d218c3bd3ac0bfaede6",
      "20d8f30d2e7245a1acaa4414f01136b2",
      "a07b924a53af4439a9fcc6348f7c0c26",
      "3c211ff2d8554ebb9be357d6b03896cb",
      "5fbcbf8ace104b63bd56498845526d2e",
      "9ebec7b006474c74a0480d8de7706186"
     ]
    },
    "id": "Ra1B37M3I2oY",
    "outputId": "0adfe2fd-464f-45b3-a3c0-bb10e074259e"
   },
   "outputs": [
    {
     "data": {
      "application/vnd.jupyter.widget-view+json": {
       "model_id": "492e213c0ba94903b55b6a71d8e7f89a",
       "version_major": 2,
       "version_minor": 0
      },
      "text/plain": [
       "Computing widget examples:   0%|          | 0/1 [00:00<?, ?example/s]"
      ]
     },
     "metadata": {},
     "output_type": "display_data"
    },
    {
     "name": "stderr",
     "output_type": "stream",
     "text": [
      "\u001b[34m\u001b[1mwandb\u001b[0m: \u001b[33mWARNING\u001b[0m The `run_name` is currently set to the same value as `TrainingArguments.output_dir`. If this was not intended, please specify a different run name by setting the `TrainingArguments.run_name` parameter.\n"
     ]
    },
    {
     "data": {
      "text/html": [
       "\n",
       "    <div>\n",
       "      \n",
       "      <progress value='910' max='910' style='width:300px; height:20px; vertical-align: middle;'></progress>\n",
       "      [910/910 20:32, Epoch 10/10]\n",
       "    </div>\n",
       "    <table border=\"1\" class=\"dataframe\">\n",
       "  <thead>\n",
       " <tr style=\"text-align: left;\">\n",
       "      <th>Step</th>\n",
       "      <th>Training Loss</th>\n",
       "      <th>Validation Loss</th>\n",
       "      <th>Cosine Accuracy@1</th>\n",
       "      <th>Cosine Accuracy@3</th>\n",
       "      <th>Cosine Accuracy@5</th>\n",
       "      <th>Cosine Accuracy@10</th>\n",
       "      <th>Cosine Precision@1</th>\n",
       "      <th>Cosine Precision@3</th>\n",
       "      <th>Cosine Precision@5</th>\n",
       "      <th>Cosine Precision@10</th>\n",
       "      <th>Cosine Recall@1</th>\n",
       "      <th>Cosine Recall@3</th>\n",
       "      <th>Cosine Recall@5</th>\n",
       "      <th>Cosine Recall@10</th>\n",
       "      <th>Cosine Ndcg@10</th>\n",
       "      <th>Cosine Mrr@10</th>\n",
       "      <th>Cosine Map@100</th>\n",
       "    </tr>\n",
       "  </thead>\n",
       "  <tbody>\n",
       "    <tr>\n",
       "      <td>50</td>\n",
       "      <td>No log</td>\n",
       "      <td>No log</td>\n",
       "      <td>0.695000</td>\n",
       "      <td>0.885000</td>\n",
       "      <td>0.940000</td>\n",
       "      <td>0.990000</td>\n",
       "      <td>0.695000</td>\n",
       "      <td>0.295000</td>\n",
       "      <td>0.188000</td>\n",
       "      <td>0.099000</td>\n",
       "      <td>0.695000</td>\n",
       "      <td>0.885000</td>\n",
       "      <td>0.940000</td>\n",
       "      <td>0.990000</td>\n",
       "      <td>0.848328</td>\n",
       "      <td>0.802220</td>\n",
       "      <td>0.803091</td>\n",
       "    </tr>\n",
       "    <tr>\n",
       "      <td>91</td>\n",
       "      <td>No log</td>\n",
       "      <td>No log</td>\n",
       "      <td>0.725000</td>\n",
       "      <td>0.925000</td>\n",
       "      <td>0.955000</td>\n",
       "      <td>1.000000</td>\n",
       "      <td>0.725000</td>\n",
       "      <td>0.308333</td>\n",
       "      <td>0.191000</td>\n",
       "      <td>0.100000</td>\n",
       "      <td>0.725000</td>\n",
       "      <td>0.925000</td>\n",
       "      <td>0.955000</td>\n",
       "      <td>1.000000</td>\n",
       "      <td>0.870466</td>\n",
       "      <td>0.828038</td>\n",
       "      <td>0.828038</td>\n",
       "    </tr>\n",
       "    <tr>\n",
       "      <td>100</td>\n",
       "      <td>No log</td>\n",
       "      <td>No log</td>\n",
       "      <td>0.695000</td>\n",
       "      <td>0.915000</td>\n",
       "      <td>0.955000</td>\n",
       "      <td>1.000000</td>\n",
       "      <td>0.695000</td>\n",
       "      <td>0.305000</td>\n",
       "      <td>0.191000</td>\n",
       "      <td>0.100000</td>\n",
       "      <td>0.695000</td>\n",
       "      <td>0.915000</td>\n",
       "      <td>0.955000</td>\n",
       "      <td>1.000000</td>\n",
       "      <td>0.858480</td>\n",
       "      <td>0.811976</td>\n",
       "      <td>0.811976</td>\n",
       "    </tr>\n",
       "    <tr>\n",
       "      <td>150</td>\n",
       "      <td>No log</td>\n",
       "      <td>No log</td>\n",
       "      <td>0.720000</td>\n",
       "      <td>0.930000</td>\n",
       "      <td>0.945000</td>\n",
       "      <td>1.000000</td>\n",
       "      <td>0.720000</td>\n",
       "      <td>0.310000</td>\n",
       "      <td>0.189000</td>\n",
       "      <td>0.100000</td>\n",
       "      <td>0.720000</td>\n",
       "      <td>0.930000</td>\n",
       "      <td>0.945000</td>\n",
       "      <td>1.000000</td>\n",
       "      <td>0.870083</td>\n",
       "      <td>0.827429</td>\n",
       "      <td>0.827429</td>\n",
       "    </tr>\n",
       "    <tr>\n",
       "      <td>182</td>\n",
       "      <td>No log</td>\n",
       "      <td>No log</td>\n",
       "      <td>0.715000</td>\n",
       "      <td>0.930000</td>\n",
       "      <td>0.965000</td>\n",
       "      <td>1.000000</td>\n",
       "      <td>0.715000</td>\n",
       "      <td>0.310000</td>\n",
       "      <td>0.193000</td>\n",
       "      <td>0.100000</td>\n",
       "      <td>0.715000</td>\n",
       "      <td>0.930000</td>\n",
       "      <td>0.965000</td>\n",
       "      <td>1.000000</td>\n",
       "      <td>0.869029</td>\n",
       "      <td>0.825774</td>\n",
       "      <td>0.825774</td>\n",
       "    </tr>\n",
       "    <tr>\n",
       "      <td>200</td>\n",
       "      <td>No log</td>\n",
       "      <td>No log</td>\n",
       "      <td>0.690000</td>\n",
       "      <td>0.935000</td>\n",
       "      <td>0.960000</td>\n",
       "      <td>1.000000</td>\n",
       "      <td>0.690000</td>\n",
       "      <td>0.311667</td>\n",
       "      <td>0.192000</td>\n",
       "      <td>0.100000</td>\n",
       "      <td>0.690000</td>\n",
       "      <td>0.935000</td>\n",
       "      <td>0.960000</td>\n",
       "      <td>1.000000</td>\n",
       "      <td>0.858672</td>\n",
       "      <td>0.811879</td>\n",
       "      <td>0.811879</td>\n",
       "    </tr>\n",
       "    <tr>\n",
       "      <td>250</td>\n",
       "      <td>No log</td>\n",
       "      <td>No log</td>\n",
       "      <td>0.705000</td>\n",
       "      <td>0.925000</td>\n",
       "      <td>0.955000</td>\n",
       "      <td>1.000000</td>\n",
       "      <td>0.705000</td>\n",
       "      <td>0.308333</td>\n",
       "      <td>0.191000</td>\n",
       "      <td>0.100000</td>\n",
       "      <td>0.705000</td>\n",
       "      <td>0.925000</td>\n",
       "      <td>0.955000</td>\n",
       "      <td>1.000000</td>\n",
       "      <td>0.861261</td>\n",
       "      <td>0.815859</td>\n",
       "      <td>0.815859</td>\n",
       "    </tr>\n",
       "    <tr>\n",
       "      <td>273</td>\n",
       "      <td>No log</td>\n",
       "      <td>No log</td>\n",
       "      <td>0.700000</td>\n",
       "      <td>0.915000</td>\n",
       "      <td>0.975000</td>\n",
       "      <td>1.000000</td>\n",
       "      <td>0.700000</td>\n",
       "      <td>0.305000</td>\n",
       "      <td>0.195000</td>\n",
       "      <td>0.100000</td>\n",
       "      <td>0.700000</td>\n",
       "      <td>0.915000</td>\n",
       "      <td>0.975000</td>\n",
       "      <td>1.000000</td>\n",
       "      <td>0.859028</td>\n",
       "      <td>0.812720</td>\n",
       "      <td>0.812720</td>\n",
       "    </tr>\n",
       "    <tr>\n",
       "      <td>300</td>\n",
       "      <td>No log</td>\n",
       "      <td>No log</td>\n",
       "      <td>0.725000</td>\n",
       "      <td>0.910000</td>\n",
       "      <td>0.955000</td>\n",
       "      <td>1.000000</td>\n",
       "      <td>0.725000</td>\n",
       "      <td>0.303333</td>\n",
       "      <td>0.191000</td>\n",
       "      <td>0.100000</td>\n",
       "      <td>0.725000</td>\n",
       "      <td>0.910000</td>\n",
       "      <td>0.955000</td>\n",
       "      <td>1.000000</td>\n",
       "      <td>0.870627</td>\n",
       "      <td>0.828506</td>\n",
       "      <td>0.828506</td>\n",
       "    </tr>\n",
       "    <tr>\n",
       "      <td>350</td>\n",
       "      <td>No log</td>\n",
       "      <td>No log</td>\n",
       "      <td>0.725000</td>\n",
       "      <td>0.925000</td>\n",
       "      <td>0.975000</td>\n",
       "      <td>0.995000</td>\n",
       "      <td>0.725000</td>\n",
       "      <td>0.308333</td>\n",
       "      <td>0.195000</td>\n",
       "      <td>0.099500</td>\n",
       "      <td>0.725000</td>\n",
       "      <td>0.925000</td>\n",
       "      <td>0.975000</td>\n",
       "      <td>0.995000</td>\n",
       "      <td>0.870386</td>\n",
       "      <td>0.829103</td>\n",
       "      <td>0.829558</td>\n",
       "    </tr>\n",
       "    <tr>\n",
       "      <td>364</td>\n",
       "      <td>No log</td>\n",
       "      <td>No log</td>\n",
       "      <td>0.715000</td>\n",
       "      <td>0.925000</td>\n",
       "      <td>0.975000</td>\n",
       "      <td>1.000000</td>\n",
       "      <td>0.715000</td>\n",
       "      <td>0.308333</td>\n",
       "      <td>0.195000</td>\n",
       "      <td>0.100000</td>\n",
       "      <td>0.715000</td>\n",
       "      <td>0.925000</td>\n",
       "      <td>0.975000</td>\n",
       "      <td>1.000000</td>\n",
       "      <td>0.867339</td>\n",
       "      <td>0.823589</td>\n",
       "      <td>0.823589</td>\n",
       "    </tr>\n",
       "    <tr>\n",
       "      <td>400</td>\n",
       "      <td>No log</td>\n",
       "      <td>No log</td>\n",
       "      <td>0.670000</td>\n",
       "      <td>0.905000</td>\n",
       "      <td>0.970000</td>\n",
       "      <td>0.995000</td>\n",
       "      <td>0.670000</td>\n",
       "      <td>0.301667</td>\n",
       "      <td>0.194000</td>\n",
       "      <td>0.099500</td>\n",
       "      <td>0.670000</td>\n",
       "      <td>0.905000</td>\n",
       "      <td>0.970000</td>\n",
       "      <td>0.995000</td>\n",
       "      <td>0.846889</td>\n",
       "      <td>0.797679</td>\n",
       "      <td>0.798133</td>\n",
       "    </tr>\n",
       "    <tr>\n",
       "      <td>450</td>\n",
       "      <td>No log</td>\n",
       "      <td>No log</td>\n",
       "      <td>0.720000</td>\n",
       "      <td>0.915000</td>\n",
       "      <td>0.965000</td>\n",
       "      <td>1.000000</td>\n",
       "      <td>0.720000</td>\n",
       "      <td>0.305000</td>\n",
       "      <td>0.193000</td>\n",
       "      <td>0.100000</td>\n",
       "      <td>0.720000</td>\n",
       "      <td>0.915000</td>\n",
       "      <td>0.965000</td>\n",
       "      <td>1.000000</td>\n",
       "      <td>0.866428</td>\n",
       "      <td>0.822645</td>\n",
       "      <td>0.822645</td>\n",
       "    </tr>\n",
       "    <tr>\n",
       "      <td>455</td>\n",
       "      <td>No log</td>\n",
       "      <td>No log</td>\n",
       "      <td>0.725000</td>\n",
       "      <td>0.915000</td>\n",
       "      <td>0.965000</td>\n",
       "      <td>1.000000</td>\n",
       "      <td>0.725000</td>\n",
       "      <td>0.305000</td>\n",
       "      <td>0.193000</td>\n",
       "      <td>0.100000</td>\n",
       "      <td>0.725000</td>\n",
       "      <td>0.915000</td>\n",
       "      <td>0.965000</td>\n",
       "      <td>1.000000</td>\n",
       "      <td>0.868709</td>\n",
       "      <td>0.825728</td>\n",
       "      <td>0.825728</td>\n",
       "    </tr>\n",
       "    <tr>\n",
       "      <td>500</td>\n",
       "      <td>1.049300</td>\n",
       "      <td>No log</td>\n",
       "      <td>0.720000</td>\n",
       "      <td>0.905000</td>\n",
       "      <td>0.960000</td>\n",
       "      <td>1.000000</td>\n",
       "      <td>0.720000</td>\n",
       "      <td>0.301667</td>\n",
       "      <td>0.192000</td>\n",
       "      <td>0.100000</td>\n",
       "      <td>0.720000</td>\n",
       "      <td>0.905000</td>\n",
       "      <td>0.960000</td>\n",
       "      <td>1.000000</td>\n",
       "      <td>0.866063</td>\n",
       "      <td>0.822282</td>\n",
       "      <td>0.822282</td>\n",
       "    </tr>\n",
       "    <tr>\n",
       "      <td>546</td>\n",
       "      <td>1.049300</td>\n",
       "      <td>No log</td>\n",
       "      <td>0.700000</td>\n",
       "      <td>0.920000</td>\n",
       "      <td>0.960000</td>\n",
       "      <td>1.000000</td>\n",
       "      <td>0.700000</td>\n",
       "      <td>0.306667</td>\n",
       "      <td>0.192000</td>\n",
       "      <td>0.100000</td>\n",
       "      <td>0.700000</td>\n",
       "      <td>0.920000</td>\n",
       "      <td>0.960000</td>\n",
       "      <td>1.000000</td>\n",
       "      <td>0.861302</td>\n",
       "      <td>0.815595</td>\n",
       "      <td>0.815595</td>\n",
       "    </tr>\n",
       "    <tr>\n",
       "      <td>550</td>\n",
       "      <td>1.049300</td>\n",
       "      <td>No log</td>\n",
       "      <td>0.700000</td>\n",
       "      <td>0.920000</td>\n",
       "      <td>0.960000</td>\n",
       "      <td>1.000000</td>\n",
       "      <td>0.700000</td>\n",
       "      <td>0.306667</td>\n",
       "      <td>0.192000</td>\n",
       "      <td>0.100000</td>\n",
       "      <td>0.700000</td>\n",
       "      <td>0.920000</td>\n",
       "      <td>0.960000</td>\n",
       "      <td>1.000000</td>\n",
       "      <td>0.859993</td>\n",
       "      <td>0.813929</td>\n",
       "      <td>0.813929</td>\n",
       "    </tr>\n",
       "    <tr>\n",
       "      <td>600</td>\n",
       "      <td>1.049300</td>\n",
       "      <td>No log</td>\n",
       "      <td>0.690000</td>\n",
       "      <td>0.905000</td>\n",
       "      <td>0.955000</td>\n",
       "      <td>0.995000</td>\n",
       "      <td>0.690000</td>\n",
       "      <td>0.301667</td>\n",
       "      <td>0.191000</td>\n",
       "      <td>0.099500</td>\n",
       "      <td>0.690000</td>\n",
       "      <td>0.905000</td>\n",
       "      <td>0.955000</td>\n",
       "      <td>0.995000</td>\n",
       "      <td>0.855755</td>\n",
       "      <td>0.809756</td>\n",
       "      <td>0.810210</td>\n",
       "    </tr>\n",
       "    <tr>\n",
       "      <td>637</td>\n",
       "      <td>1.049300</td>\n",
       "      <td>No log</td>\n",
       "      <td>0.705000</td>\n",
       "      <td>0.910000</td>\n",
       "      <td>0.965000</td>\n",
       "      <td>0.995000</td>\n",
       "      <td>0.705000</td>\n",
       "      <td>0.303333</td>\n",
       "      <td>0.193000</td>\n",
       "      <td>0.099500</td>\n",
       "      <td>0.705000</td>\n",
       "      <td>0.910000</td>\n",
       "      <td>0.965000</td>\n",
       "      <td>0.995000</td>\n",
       "      <td>0.862429</td>\n",
       "      <td>0.818437</td>\n",
       "      <td>0.818891</td>\n",
       "    </tr>\n",
       "    <tr>\n",
       "      <td>650</td>\n",
       "      <td>1.049300</td>\n",
       "      <td>No log</td>\n",
       "      <td>0.700000</td>\n",
       "      <td>0.920000</td>\n",
       "      <td>0.960000</td>\n",
       "      <td>0.995000</td>\n",
       "      <td>0.700000</td>\n",
       "      <td>0.306667</td>\n",
       "      <td>0.192000</td>\n",
       "      <td>0.099500</td>\n",
       "      <td>0.700000</td>\n",
       "      <td>0.920000</td>\n",
       "      <td>0.960000</td>\n",
       "      <td>0.995000</td>\n",
       "      <td>0.860295</td>\n",
       "      <td>0.815595</td>\n",
       "      <td>0.816050</td>\n",
       "    </tr>\n",
       "    <tr>\n",
       "      <td>700</td>\n",
       "      <td>1.049300</td>\n",
       "      <td>No log</td>\n",
       "      <td>0.695000</td>\n",
       "      <td>0.905000</td>\n",
       "      <td>0.960000</td>\n",
       "      <td>1.000000</td>\n",
       "      <td>0.695000</td>\n",
       "      <td>0.301667</td>\n",
       "      <td>0.192000</td>\n",
       "      <td>0.100000</td>\n",
       "      <td>0.695000</td>\n",
       "      <td>0.905000</td>\n",
       "      <td>0.960000</td>\n",
       "      <td>1.000000</td>\n",
       "      <td>0.857212</td>\n",
       "      <td>0.810310</td>\n",
       "      <td>0.810310</td>\n",
       "    </tr>\n",
       "    <tr>\n",
       "      <td>728</td>\n",
       "      <td>1.049300</td>\n",
       "      <td>No log</td>\n",
       "      <td>0.695000</td>\n",
       "      <td>0.910000</td>\n",
       "      <td>0.970000</td>\n",
       "      <td>1.000000</td>\n",
       "      <td>0.695000</td>\n",
       "      <td>0.303333</td>\n",
       "      <td>0.194000</td>\n",
       "      <td>0.100000</td>\n",
       "      <td>0.695000</td>\n",
       "      <td>0.910000</td>\n",
       "      <td>0.970000</td>\n",
       "      <td>1.000000</td>\n",
       "      <td>0.859568</td>\n",
       "      <td>0.813151</td>\n",
       "      <td>0.813151</td>\n",
       "    </tr>\n",
       "    <tr>\n",
       "      <td>750</td>\n",
       "      <td>1.049300</td>\n",
       "      <td>No log</td>\n",
       "      <td>0.700000</td>\n",
       "      <td>0.925000</td>\n",
       "      <td>0.970000</td>\n",
       "      <td>1.000000</td>\n",
       "      <td>0.700000</td>\n",
       "      <td>0.308333</td>\n",
       "      <td>0.194000</td>\n",
       "      <td>0.100000</td>\n",
       "      <td>0.700000</td>\n",
       "      <td>0.925000</td>\n",
       "      <td>0.970000</td>\n",
       "      <td>1.000000</td>\n",
       "      <td>0.862583</td>\n",
       "      <td>0.817062</td>\n",
       "      <td>0.817062</td>\n",
       "    </tr>\n",
       "    <tr>\n",
       "      <td>800</td>\n",
       "      <td>1.049300</td>\n",
       "      <td>No log</td>\n",
       "      <td>0.695000</td>\n",
       "      <td>0.915000</td>\n",
       "      <td>0.970000</td>\n",
       "      <td>1.000000</td>\n",
       "      <td>0.695000</td>\n",
       "      <td>0.305000</td>\n",
       "      <td>0.194000</td>\n",
       "      <td>0.100000</td>\n",
       "      <td>0.695000</td>\n",
       "      <td>0.915000</td>\n",
       "      <td>0.970000</td>\n",
       "      <td>1.000000</td>\n",
       "      <td>0.860159</td>\n",
       "      <td>0.813847</td>\n",
       "      <td>0.813847</td>\n",
       "    </tr>\n",
       "    <tr>\n",
       "      <td>819</td>\n",
       "      <td>1.049300</td>\n",
       "      <td>No log</td>\n",
       "      <td>0.700000</td>\n",
       "      <td>0.920000</td>\n",
       "      <td>0.965000</td>\n",
       "      <td>1.000000</td>\n",
       "      <td>0.700000</td>\n",
       "      <td>0.306667</td>\n",
       "      <td>0.193000</td>\n",
       "      <td>0.100000</td>\n",
       "      <td>0.700000</td>\n",
       "      <td>0.920000</td>\n",
       "      <td>0.965000</td>\n",
       "      <td>1.000000</td>\n",
       "      <td>0.861543</td>\n",
       "      <td>0.815764</td>\n",
       "      <td>0.815764</td>\n",
       "    </tr>\n",
       "    <tr>\n",
       "      <td>850</td>\n",
       "      <td>1.049300</td>\n",
       "      <td>No log</td>\n",
       "      <td>0.705000</td>\n",
       "      <td>0.915000</td>\n",
       "      <td>0.965000</td>\n",
       "      <td>1.000000</td>\n",
       "      <td>0.705000</td>\n",
       "      <td>0.305000</td>\n",
       "      <td>0.193000</td>\n",
       "      <td>0.100000</td>\n",
       "      <td>0.705000</td>\n",
       "      <td>0.915000</td>\n",
       "      <td>0.965000</td>\n",
       "      <td>1.000000</td>\n",
       "      <td>0.863696</td>\n",
       "      <td>0.818681</td>\n",
       "      <td>0.818681</td>\n",
       "    </tr>\n",
       "    <tr>\n",
       "      <td>900</td>\n",
       "      <td>1.049300</td>\n",
       "      <td>No log</td>\n",
       "      <td>0.700000</td>\n",
       "      <td>0.915000</td>\n",
       "      <td>0.965000</td>\n",
       "      <td>1.000000</td>\n",
       "      <td>0.700000</td>\n",
       "      <td>0.305000</td>\n",
       "      <td>0.193000</td>\n",
       "      <td>0.100000</td>\n",
       "      <td>0.700000</td>\n",
       "      <td>0.915000</td>\n",
       "      <td>0.965000</td>\n",
       "      <td>1.000000</td>\n",
       "      <td>0.861940</td>\n",
       "      <td>0.816270</td>\n",
       "      <td>0.816270</td>\n",
       "    </tr>\n",
       "    <tr>\n",
       "      <td>910</td>\n",
       "      <td>1.049300</td>\n",
       "      <td>No log</td>\n",
       "      <td>0.700000</td>\n",
       "      <td>0.915000</td>\n",
       "      <td>0.970000</td>\n",
       "      <td>1.000000</td>\n",
       "      <td>0.700000</td>\n",
       "      <td>0.305000</td>\n",
       "      <td>0.194000</td>\n",
       "      <td>0.100000</td>\n",
       "      <td>0.700000</td>\n",
       "      <td>0.915000</td>\n",
       "      <td>0.970000</td>\n",
       "      <td>1.000000</td>\n",
       "      <td>0.862094</td>\n",
       "      <td>0.816437</td>\n",
       "      <td>0.816437</td>\n",
       "    </tr>\n",
       "  </tbody>\n",
       "</table><p>"
      ],
      "text/plain": [
       "<IPython.core.display.HTML object>"
      ]
     },
     "metadata": {},
     "output_type": "display_data"
    }
   ],
   "source": [
    "warmup_steps = int(len(loader) * EPOCHS * 0.1)\n",
    "\n",
    "model.fit(\n",
    "    train_objectives=[(loader, train_loss)],\n",
    "    epochs=EPOCHS,\n",
    "    warmup_steps=warmup_steps,\n",
    "    output_path='finetuned_arctic_ft',\n",
    "    show_progress_bar=True,\n",
    "    evaluator=evaluator,\n",
    "    evaluation_steps=50\n",
    ")"
   ]
  },
  {
   "cell_type": "code",
   "execution_count": 15,
   "metadata": {
    "colab": {
     "base_uri": "https://localhost:8080/",
     "height": 17,
     "referenced_widgets": [
      "e842f108b3db48a6ab2ae6c518cbbd7e",
      "6588ef507afd4eb98aaa893c591690f9",
      "11f0c10a098a475b89555b016a11a1e1",
      "5689fda8cf19498ebf371bc35fb08a79",
      "33025c7c6d584c2fac5ac46547026726",
      "a6eeb133a5194babbc5e2f21c551bace",
      "e7c8b5f497c34668a35478bbd4e6cd12",
      "46097e7949364f419126622db0be073a",
      "0d0845f30c274763b3371c53e3ce85c4",
      "d4d009f321dc465b9d7c44095145c4e8",
      "d059d6a4554e46ad8622bdc5f9b64e5a",
      "005ec0eabed34aec979850564eafc84f",
      "4a4ac843117a4cad9501700799f9c3c6",
      "2fc8c9b27de943b9b1b0b819d6793dca",
      "d25e949d3dff442bb35822d7aab36b23",
      "c7347937ecd943188aa7840e0cdce719",
      "a41f668ea2574d22a5ec9558d81ffe27",
      "47ad0a94764b4274bf3f3aba0096764a",
      "aae555243a5e4de0a97322dce45ab246",
      "70895308a8b745bdbd9f6cdf127bcc70"
     ]
    },
    "id": "jHQj1WhUJlcq",
    "outputId": "734806f8-42eb-47e2-d8e7-80e3c4eb99ca"
   },
   "outputs": [
    {
     "data": {
      "application/vnd.jupyter.widget-view+json": {
       "model_id": "e842f108b3db48a6ab2ae6c518cbbd7e",
       "version_major": 2,
       "version_minor": 0
      },
      "text/plain": [
       "VBox(children=(HTML(value='<center> <img\\nsrc=https://huggingface.co/front/assets/huggingface_logo-noborder.sv…"
      ]
     },
     "metadata": {},
     "output_type": "display_data"
    }
   ],
   "source": [
    "from huggingface_hub import notebook_login\n",
    "\n",
    "notebook_login()"
   ]
  },
  {
   "cell_type": "code",
   "execution_count": 16,
   "metadata": {
    "id": "YtvZACC0NDMW"
   },
   "outputs": [],
   "source": [
    "hf_username = \"vivnatan\""
   ]
  },
  {
   "cell_type": "code",
   "execution_count": 17,
   "metadata": {
    "colab": {
     "base_uri": "https://localhost:8080/",
     "height": 84,
     "referenced_widgets": [
      "a4eca37ac40c4729b11553c97061c7a8",
      "07f1c638040a4377a3d9955c5012dd37",
      "31a8dda0b5084455a5aa9b756500404d",
      "f6f9068735354e3c9d4167bab48c1e67",
      "26c46ac179e548c49c783d197270a8b0",
      "aa1646617a0f4cacaa679e7577b36bc6",
      "55aec9625cc949d29555926565c0e4bd",
      "117ff7b2bf7b486e8424db24e19daece",
      "74b97af2ad1f4754bf20230cfaaf3ff7",
      "d8a9e9c5cfa14208a3db64176bcc1a1a",
      "67e2c6085a374cf4992451c27b0d4d58"
     ]
    },
    "id": "GvBkgeUcNFyw",
    "outputId": "995a06da-33a4-41e7-f910-236cb9e3529e"
   },
   "outputs": [
    {
     "data": {
      "application/vnd.jupyter.widget-view+json": {
       "model_id": "a4eca37ac40c4729b11553c97061c7a8",
       "version_major": 2,
       "version_minor": 0
      },
      "text/plain": [
       "model.safetensors:   0%|          | 0.00/1.34G [00:00<?, ?B/s]"
      ]
     },
     "metadata": {},
     "output_type": "display_data"
    },
    {
     "data": {
      "application/vnd.google.colaboratory.intrinsic+json": {
       "type": "string"
      },
      "text/plain": [
       "'https://huggingface.co/vivnatan/snowflake-arctic-embed-l-medicare/commit/603b29d0a64b2399dbe2884b3c28dfad0376f656'"
      ]
     },
     "execution_count": 17,
     "metadata": {},
     "output_type": "execute_result"
    }
   ],
   "source": [
    "\n",
    "import uuid\n",
    "\n",
    "model.push_to_hub(f\"{hf_username}/snowflake-arctic-embed-l-medicare\")"
   ]
  },
  {
   "cell_type": "markdown",
   "metadata": {
    "id": "5DS4ASVZPlvG"
   },
   "source": [
    "## Evaluating embeddings - Vibe check"
   ]
  },
  {
   "cell_type": "code",
   "execution_count": 23,
   "metadata": {
    "id": "BJaPNGHAPM2q"
   },
   "outputs": [],
   "source": [
    "import pandas as pd\n",
    "\n",
    "from langchain_community.vectorstores import FAISS\n",
    "from langchain_openai.embeddings import OpenAIEmbeddings\n",
    "from langchain_core.documents import Document\n",
    "\n",
    "import tqdm"
   ]
  },
  {
   "cell_type": "code",
   "execution_count": 24,
   "metadata": {
    "id": "gg-08YaaPRKb"
   },
   "outputs": [],
   "source": [
    "def evaluate_openai(\n",
    "    dataset,\n",
    "    embed_model,\n",
    "    top_k=5,\n",
    "    verbose=False,\n",
    "):\n",
    "  corpus = dataset['corpus']\n",
    "  questions = dataset['questions']\n",
    "  relevant_docs = dataset['relevant_contexts']\n",
    "  documents = [Document(page_content=content, metadata={\"id\": doc_id}) for doc_id, content in corpus.items()]\n",
    "  vectorstore = FAISS.from_documents(documents, embed_model)\n",
    "\n",
    "  retriever = vectorstore.as_retriever(search_kwargs={\"k\": top_k})\n",
    "\n",
    "  eval_results = []\n",
    "  for id, question in tqdm.tqdm(questions.items()):\n",
    "    retrieved_nodes = retriever.invoke(question)\n",
    "    retrieved_ids = [node.metadata[\"id\"] for node in retrieved_nodes]\n",
    "    expected_id = relevant_docs[id][0]\n",
    "    is_hit = expected_id in retrieved_ids\n",
    "    eval_results.append({\"id\": id, \"question\": question, \"expected_id\": expected_id, \"is_hit\": is_hit})\n",
    "\n",
    "  return eval_results"
   ]
  },
  {
   "cell_type": "code",
   "execution_count": 25,
   "metadata": {
    "colab": {
     "base_uri": "https://localhost:8080/"
    },
    "id": "KJsicONbPVGu",
    "outputId": "9802c926-1fbf-4899-fa01-6bd6569b2151"
   },
   "outputs": [
    {
     "name": "stderr",
     "output_type": "stream",
     "text": [
      "100%|██████████| 200/200 [01:11<00:00,  2.81it/s]\n"
     ]
    }
   ],
   "source": [
    "te3_openai = OpenAIEmbeddings(model=\"text-embedding-3-small\")\n",
    "te3_results = evaluate_openai(test_dataset, te3_openai)"
   ]
  },
  {
   "cell_type": "code",
   "execution_count": 26,
   "metadata": {
    "id": "SZjhv7kcPbiN"
   },
   "outputs": [],
   "source": [
    "te3_results_df = pd.DataFrame(te3_results)"
   ]
  },
  {
   "cell_type": "code",
   "execution_count": 27,
   "metadata": {
    "colab": {
     "base_uri": "https://localhost:8080/"
    },
    "id": "p7pUFbwPPemB",
    "outputId": "3ab6add7-0788-4be0-9751-57e8732e26a9"
   },
   "outputs": [
    {
     "data": {
      "text/plain": [
       "np.float64(0.955)"
      ]
     },
     "execution_count": 27,
     "metadata": {},
     "output_type": "execute_result"
    }
   ],
   "source": [
    "te3_hit_rate = te3_results_df[\"is_hit\"].mean()\n",
    "te3_hit_rate"
   ]
  },
  {
   "cell_type": "code",
   "execution_count": 28,
   "metadata": {
    "colab": {
     "base_uri": "https://localhost:8080/"
    },
    "id": "aPJjtFeNPkKB",
    "outputId": "81802f0d-6629-45bb-eddb-03cc465ac19a"
   },
   "outputs": [
    {
     "name": "stderr",
     "output_type": "stream",
     "text": [
      "100%|██████████| 200/200 [00:04<00:00, 45.08it/s]\n"
     ]
    }
   ],
   "source": [
    "from langchain_huggingface import HuggingFaceEmbeddings\n",
    "\n",
    "huggingface_embeddings = HuggingFaceEmbeddings(model_name=\"Snowflake/snowflake-arctic-embed-l\")\n",
    "arctic_embed_m_results = evaluate_openai(test_dataset, huggingface_embeddings)"
   ]
  },
  {
   "cell_type": "code",
   "execution_count": 29,
   "metadata": {
    "id": "W5HUgFSGTv1B"
   },
   "outputs": [],
   "source": [
    "arctic_embed_m_results_df = pd.DataFrame(arctic_embed_m_results)"
   ]
  },
  {
   "cell_type": "code",
   "execution_count": 30,
   "metadata": {
    "colab": {
     "base_uri": "https://localhost:8080/"
    },
    "id": "kemsuLZsTyUo",
    "outputId": "c6e8299b-3bbb-4449-9c27-7bb9b64b15a4"
   },
   "outputs": [
    {
     "data": {
      "text/plain": [
       "np.float64(0.73)"
      ]
     },
     "execution_count": 30,
     "metadata": {},
     "output_type": "execute_result"
    }
   ],
   "source": [
    "arctic_embed_m_hit_rate = arctic_embed_m_results_df[\"is_hit\"].mean()\n",
    "arctic_embed_m_hit_rate"
   ]
  },
  {
   "cell_type": "code",
   "execution_count": 31,
   "metadata": {
    "colab": {
     "base_uri": "https://localhost:8080/",
     "height": 440,
     "referenced_widgets": [
      "15a35c62a3cc44a58a34d769e35f07e3",
      "6bf8072fcbc941048e58f79b6f174c87",
      "aa42d24277e5400b838e28f493886c4c",
      "1f18118a5d404982ae0b82888f3adc8f",
      "9ca8b35ab2c042ce85dca56419bcf11f",
      "68b2486117af4c20a75fca7d5f4f99d5",
      "496bcb973bb64aedafafa17a77be275e",
      "c9116f41d5494736824ccbfdd2393634",
      "4bebb760ada9437daab3ba51d3e29107",
      "645703dffeb24f0c9a6788fc14cb8cb2",
      "4156525866b64aa78145cefcb109abfe",
      "eddb9d9591464847928fd1901460629e",
      "270eabedfd2b49c3b49d2fbe3bf683ef",
      "9ebaf70b302a4ad4a02a2112e92fb539",
      "f5d797d9a0184daeafccd6ba142632ca",
      "eec5ee8fb4a94ae4860ff801c2ad91b3",
      "864239b645884880bba665b1c00ca773",
      "5dabc54bdf9041a78967615c77773426",
      "ca40a06b12bb4b96884f0ccd4a1a7d16",
      "47528075449848748005f5edffcf6e12",
      "2c15f32d9c4040b1ad633ebfb23dc2a0",
      "4e5a8b0ae8394b5a911c8e35a3524e6f",
      "99fbf05514e848dab526426a0e858c56",
      "1badbaff5d6a48d28668c81f73522647",
      "f9f1f8d241ce4508b28467b48c357971",
      "344b96306c0e4bd58796623cd235e83d",
      "a05f3dede84d43909d10203a9117aac9",
      "8c0c0ba3019c4cbfb7237b7b77a9d19a",
      "6be24670bba0400fb86a2ed04cb40e93",
      "3c9067d0a4374cc3bb2af183dcdeb7db",
      "39efc49e2fd24884a7b871d327a8b76e",
      "90552cd73316457bb50865066fcb5074",
      "96846c13fb334213a92b09e0c4620168",
      "288d3d7660fa4dcfa1847ea7565e1dce",
      "1799566210b54b279b1dbeb388e2ce68",
      "11e4515f27314369a1769300567e6a6c",
      "539758baa63f4aee88611645ead62476",
      "ea7becfcc418434db10864e74b3162e4",
      "c3eea045fc0644d9930f314cfcb91c56",
      "bc51a559457748c9865825afa7161ab9",
      "ec547c25dc02415b94f2c8fb68c4453d",
      "a9ec52a5fe4847cb9a88b575a38e5719",
      "116c528bc1f44d19984f04a39c239fc2",
      "b8e4e98604704aada9e1076ac0650d91",
      "5cf0298db2c24695bcc6d1c6003cb4a5",
      "a3e4b65133b24d77a376c96fc907d3e2",
      "4371259ebfb1496ab19deaf53f529129",
      "fb282591ef7341d8a2c102bb5fc575b7",
      "2db03d5200a94820b0e39969d9129fe1",
      "0bb9934070f04bedb8ab0fbc6056eb68",
      "61532e3ddcb148b18141d0031375f2ee",
      "f06c55f8a05b40b7b2b84fcc25b9abec",
      "0e88538c0f1849ed926a2a554a686033",
      "6d36cdab9da44486bfa15924c7dfb6d5",
      "abfecea95ad54cea8c7e118bc68a4244",
      "72ae095727d74b0e9e987be51aaedb1f",
      "1418c4708dec422e8ee60cc8ad0f4819",
      "842483e34092492198208985dfef4494",
      "ddf5bbb2b0394124a17ba5f021262c5c",
      "a8e7bd73fbd9488f94bf917b3abb9613",
      "16cc46b535a741dd855851efae93ba7e",
      "c970906d251d4e6faf92f5b669f77958",
      "6b345ca8c65947bc88497e546fc56433",
      "bfa878adbca84827a8ec84272aa582d2",
      "57acceab960a4a21a0e9144da92e08c3",
      "a9b39b821f184c31a02f9523af5cf2d3",
      "9f537ed7e11540d7abae0a7c74abce11",
      "eb771ac72e3842918bee96e3cc4cd935",
      "8d8ddfd8d8034475ab99214c1634fb5f",
      "1823077af6aa41a5b752cec5fce0a944",
      "a2e4b5923fdb452188ea9a9d3ab103fd",
      "67b8c4b0d98b4a5885ee3594c6f611ab",
      "e0e70eb45f7142e889c2e860208fcab6",
      "eb1b49b5aed442dd839b942f57b2cc0d",
      "5d06aa89a3624bcd8f4bce4190cb051f",
      "51fc33549fec4e0bb5784323378f5e8d",
      "284d51fee37447888f269dd6e006ca4a",
      "497dbce28fd9485cb11b22664ab0508d",
      "f45b610eba6e4a2eba6e4cb9cdca7a85",
      "9fdd1029c2e54b14b9931c9148c0dc92",
      "7699e5b881bd4525b1d46157258ce9b8",
      "a92fde4d071445baac9e23f1c5d3012a",
      "12dd58de85f044d7b0805511376ee454",
      "593bb96e32d243bc8fe950b7dedf7c02",
      "4995112a39954177bc6ef8b74c2279b3",
      "9c9940fbbc5c4d20b1faeea670373824",
      "f210cd43b8c24724afd230051e23d910",
      "ddfe53c1d4e84064864d9c5d67be9d57",
      "cd098d3b34424639a589ced90113cf32",
      "09775abab3bb4944b24d469b91bbd2a3",
      "b0f4311032eb46168fdb559f1deda5a6",
      "bf204490cbd646e88bb0a8d55cd9c286",
      "a817efd204744032a5da3caf72f806fd",
      "bcb39a4c32e24009b64707d0fa0ffe96",
      "1996c819de984f458df0e882fc6e2348",
      "98f8f5d033ca4288b547a330e292d73b",
      "c40daf19c40e4df6b30bae41edf3cefb",
      "c3d2a9ef854b4f59a90b0dce45ff28ab",
      "ac81bcee18d74be2b2e012d32e315386",
      "3e22c9e95b52456fb2570c4533c97520",
      "b1e071365d754643bc1741f41b67019f",
      "2feed66d2e6548cba4e86824c2d7c2fd",
      "66e0cfe91fc94229931ccd419be40072",
      "38f247d512924bdf8c407628ab0490c3",
      "4bf205e2d853416e82690d009119690c",
      "15cd5462cd1b4e2086b9a572e1e65f95",
      "c05236d5c96d4206939219dca3e31368",
      "12d00d387d5d47669c899c617df9fbe0",
      "1cad3dc97bda4fe4b84bc4fcebde3630",
      "51ceac2dac654d2380795bfbcb3a8606",
      "2f04983702fe4594bd5c3b5c268c7214",
      "aca82600b6264016870a6e1d6e890dc2",
      "3121e3716b2a41cfb82d559f228606b1",
      "57f219bbe4fa467780a5ea4accde213d",
      "b59178e13da947c98cd0e9c90a019062",
      "4f1a7d8fa28a4f7f8b2dd846fc453712",
      "26d6778fb9074d8881fd6b082a539839",
      "d498ecd080524df5b62c9d385c303831",
      "d940421e0fa8456589c45e174e616a35",
      "fe834b40636c4af586a959680380c25a",
      "4e98f2bf6f1648ebb0a2a7b8da550679"
     ]
    },
    "id": "Nqj07OtiTzs5",
    "outputId": "a9e66d70-f8d3-4e4e-cf28-31679be5cfa8"
   },
   "outputs": [
    {
     "data": {
      "application/vnd.jupyter.widget-view+json": {
       "model_id": "15a35c62a3cc44a58a34d769e35f07e3",
       "version_major": 2,
       "version_minor": 0
      },
      "text/plain": [
       "modules.json:   0%|          | 0.00/349 [00:00<?, ?B/s]"
      ]
     },
     "metadata": {},
     "output_type": "display_data"
    },
    {
     "data": {
      "application/vnd.jupyter.widget-view+json": {
       "model_id": "eddb9d9591464847928fd1901460629e",
       "version_major": 2,
       "version_minor": 0
      },
      "text/plain": [
       "config_sentence_transformers.json:   0%|          | 0.00/281 [00:00<?, ?B/s]"
      ]
     },
     "metadata": {},
     "output_type": "display_data"
    },
    {
     "data": {
      "application/vnd.jupyter.widget-view+json": {
       "model_id": "99fbf05514e848dab526426a0e858c56",
       "version_major": 2,
       "version_minor": 0
      },
      "text/plain": [
       "README.md:   0%|          | 0.00/43.0k [00:00<?, ?B/s]"
      ]
     },
     "metadata": {},
     "output_type": "display_data"
    },
    {
     "data": {
      "application/vnd.jupyter.widget-view+json": {
       "model_id": "288d3d7660fa4dcfa1847ea7565e1dce",
       "version_major": 2,
       "version_minor": 0
      },
      "text/plain": [
       "sentence_bert_config.json:   0%|          | 0.00/53.0 [00:00<?, ?B/s]"
      ]
     },
     "metadata": {},
     "output_type": "display_data"
    },
    {
     "data": {
      "application/vnd.jupyter.widget-view+json": {
       "model_id": "5cf0298db2c24695bcc6d1c6003cb4a5",
       "version_major": 2,
       "version_minor": 0
      },
      "text/plain": [
       "config.json:   0%|          | 0.00/584 [00:00<?, ?B/s]"
      ]
     },
     "metadata": {},
     "output_type": "display_data"
    },
    {
     "data": {
      "application/vnd.jupyter.widget-view+json": {
       "model_id": "72ae095727d74b0e9e987be51aaedb1f",
       "version_major": 2,
       "version_minor": 0
      },
      "text/plain": [
       "model.safetensors:   0%|          | 0.00/1.34G [00:00<?, ?B/s]"
      ]
     },
     "metadata": {},
     "output_type": "display_data"
    },
    {
     "name": "stderr",
     "output_type": "stream",
     "text": [
      "Some weights of BertModel were not initialized from the model checkpoint at vivnatan/snowflake-arctic-embed-l-medicare and are newly initialized: ['pooler.dense.bias', 'pooler.dense.weight']\n",
      "You should probably TRAIN this model on a down-stream task to be able to use it for predictions and inference.\n"
     ]
    },
    {
     "data": {
      "application/vnd.jupyter.widget-view+json": {
       "model_id": "9f537ed7e11540d7abae0a7c74abce11",
       "version_major": 2,
       "version_minor": 0
      },
      "text/plain": [
       "tokenizer_config.json:   0%|          | 0.00/1.41k [00:00<?, ?B/s]"
      ]
     },
     "metadata": {},
     "output_type": "display_data"
    },
    {
     "data": {
      "application/vnd.jupyter.widget-view+json": {
       "model_id": "497dbce28fd9485cb11b22664ab0508d",
       "version_major": 2,
       "version_minor": 0
      },
      "text/plain": [
       "vocab.txt:   0%|          | 0.00/232k [00:00<?, ?B/s]"
      ]
     },
     "metadata": {},
     "output_type": "display_data"
    },
    {
     "data": {
      "application/vnd.jupyter.widget-view+json": {
       "model_id": "cd098d3b34424639a589ced90113cf32",
       "version_major": 2,
       "version_minor": 0
      },
      "text/plain": [
       "tokenizer.json:   0%|          | 0.00/712k [00:00<?, ?B/s]"
      ]
     },
     "metadata": {},
     "output_type": "display_data"
    },
    {
     "data": {
      "application/vnd.jupyter.widget-view+json": {
       "model_id": "3e22c9e95b52456fb2570c4533c97520",
       "version_major": 2,
       "version_minor": 0
      },
      "text/plain": [
       "special_tokens_map.json:   0%|          | 0.00/695 [00:00<?, ?B/s]"
      ]
     },
     "metadata": {},
     "output_type": "display_data"
    },
    {
     "data": {
      "application/vnd.jupyter.widget-view+json": {
       "model_id": "2f04983702fe4594bd5c3b5c268c7214",
       "version_major": 2,
       "version_minor": 0
      },
      "text/plain": [
       "config.json:   0%|          | 0.00/297 [00:00<?, ?B/s]"
      ]
     },
     "metadata": {},
     "output_type": "display_data"
    },
    {
     "name": "stderr",
     "output_type": "stream",
     "text": [
      "100%|██████████| 200/200 [00:04<00:00, 45.12it/s]\n"
     ]
    }
   ],
   "source": [
    "finetune_embeddings = HuggingFaceEmbeddings(model_name=\"vivnatan/snowflake-arctic-embed-l-medicare\")\n",
    "finetune_results = evaluate_openai(test_dataset, finetune_embeddings)"
   ]
  },
  {
   "cell_type": "code",
   "execution_count": 32,
   "metadata": {
    "id": "CgkFaAsYUGtl"
   },
   "outputs": [],
   "source": [
    "finetune_results_df = pd.DataFrame(finetune_results)"
   ]
  },
  {
   "cell_type": "code",
   "execution_count": 33,
   "metadata": {
    "colab": {
     "base_uri": "https://localhost:8080/"
    },
    "id": "MHvOFR9jUJoQ",
    "outputId": "e86d84b2-8a00-4c0a-c534-13db61464073"
   },
   "outputs": [
    {
     "data": {
      "text/plain": [
       "np.float64(0.935)"
      ]
     },
     "execution_count": 33,
     "metadata": {},
     "output_type": "execute_result"
    }
   ],
   "source": [
    "finetune_hit_rate = finetune_results_df[\"is_hit\"].mean()\n",
    "finetune_hit_rate"
   ]
  },
  {
   "cell_type": "code",
   "execution_count": null,
   "metadata": {
    "id": "F86p8YATcmLT"
   },
   "outputs": [],
   "source": []
  },
  {
   "cell_type": "code",
   "execution_count": 4,
   "metadata": {
    "colab": {
     "base_uri": "https://localhost:8080/"
    },
    "id": "MyVplAZkc7u7",
    "outputId": "28d6affd-ae1b-428c-af1d-b1dedee52ec7"
   },
   "outputs": [
    {
     "name": "stdout",
     "output_type": "stream",
     "text": [
      "\u001b[31mERROR: pip's dependency resolver does not currently take into account all the packages that are installed. This behaviour is the source of the following dependency conflicts.\n",
      "thinc 8.3.6 requires numpy<3.0.0,>=2.0.0, but you have numpy 1.26.4 which is incompatible.\n",
      "pylibcudf-cu12 25.2.1 requires pyarrow<20.0.0a0,>=14.0.0; platform_machine == \"x86_64\", but you have pyarrow 20.0.0 which is incompatible.\n",
      "cudf-cu12 25.2.1 requires pyarrow<20.0.0a0,>=14.0.0; platform_machine == \"x86_64\", but you have pyarrow 20.0.0 which is incompatible.\u001b[0m\u001b[31m\n",
      "\u001b[0m"
     ]
    }
   ],
   "source": [
    "!pip install -qU langchain-community==0.3.14 \\\n",
    "                 langchain-openai==0.2.14 \\\n",
    "                 unstructured==0.16.12 \\\n",
    "                 langgraph==0.2.61 \\\n",
    "                 langchain-qdrant==0.2.0 \\\n",
    "                 ragas==0.2.10 \\\n",
    "                 pymupdf \\\n",
    "                 cohere \\\n",
    "                 langchain_cohere \\\n",
    "                 langchain_huggingface \\\n",
    "                 langchain_core>=0.3.34 \\\n",
    "                 langchain>=0.3.18 \\\n",
    "                 langchain-text-splitters>=0.3.6 \\\n",
    "                 datasets>=3.2.0 \\\n",
    "                 sentence_transformers \\\n",
    "                 pyarrow"
   ]
  },
  {
   "cell_type": "code",
   "execution_count": 5,
   "metadata": {
    "colab": {
     "base_uri": "https://localhost:8080/",
     "height": 120,
     "referenced_widgets": [
      "4ad16c2850e3442286e2690f0f753823",
      "7ef8e063874a4a4bb2375306b2c307c2",
      "a2195ce6fc2b4237b167f0989e84aec8",
      "1100cec7795447f6ab55e7b8fe8ec929",
      "5393c24c9ccb49019a577e2ad0d0bef9",
      "46cb661947b24a6a957fef24d8c2651a",
      "27e8fce62e4843aea3ce05692839884b",
      "3bd25872647548c1bc7a5a837254477e",
      "0007cd2e380a40f481e07f25577deadb",
      "4d9d3e04077d471ba74588ba7a85dfdd",
      "ad6a637f68f540cf9f072fea95dec42b"
     ]
    },
    "id": "iRpkmodXNUt7",
    "outputId": "3ac47cec-daec-4907-9d48-74ba0cceb781"
   },
   "outputs": [
    {
     "data": {
      "application/vnd.jupyter.widget-view+json": {
       "model_id": "4ad16c2850e3442286e2690f0f753823",
       "version_major": 2,
       "version_minor": 0
      },
      "text/plain": [
       "Loading PDFs:   0%|          | 0/1 [00:00<?, ?it/s]"
      ]
     },
     "metadata": {},
     "output_type": "display_data"
    },
    {
     "name": "stdout",
     "output_type": "stream",
     "text": [
      "  ✅ Loaded 128 pages from 10050-medicare-and-you.pdf\n"
     ]
    },
    {
     "name": "stderr",
     "output_type": "stream",
     "text": [
      "/usr/local/lib/python3.11/dist-packages/langchain_community/document_loaders/parsers/pdf.py:322: UserWarning: Warning: Empty content on page 126 of document /content/drive/MyDrive/MedicarePilot/pdf_files/10050-medicare-and-you.pdf\n",
      "  warnings.warn(\n"
     ]
    }
   ],
   "source": [
    "import os\n",
    "from pathlib import Path\n",
    "from tqdm.notebook import tqdm\n",
    "\n",
    "from langchain_community.document_loaders import PyMuPDFLoader\n",
    "from langchain.schema import Document\n",
    "\n",
    "PDF_ROOT = Path(\"/content/drive/MyDrive/MedicarePilot/pdf_files\")\n",
    "\n",
    "pdf_paths = list(PDF_ROOT.rglob(\"*.pdf\"))\n",
    "\n",
    "# Load PDFs into Documents\n",
    "pdf_docs = []\n",
    "errors = []\n",
    "\n",
    "for pdf_path in tqdm(pdf_paths, desc=\"Loading PDFs\"):\n",
    "    try:\n",
    "        loader = PyMuPDFLoader(str(pdf_path))\n",
    "        # load() returns a list of Document, one per page by default\n",
    "        page_docs = loader.load()\n",
    "        # enrich metadata with filename\n",
    "        for doc in page_docs:\n",
    "            # ensure metadata has source and page info\n",
    "            meta = dict(doc.metadata)\n",
    "            meta[\"source\"] = str(pdf_path)\n",
    "            # if loader provides 'page' or 'page_number', keep it; otherwise derive\n",
    "            if \"page\" not in meta:\n",
    "                # infer page index from doc.content order\n",
    "                # PyMuPDFLoader sets metadata[\"page\"] for each Document\n",
    "                pass\n",
    "            doc.metadata = meta  # type: ignore\n",
    "        pdf_docs.extend(page_docs)\n",
    "        print(f\"  ✅ Loaded {len(page_docs)} pages from {pdf_path.name}\")\n",
    "    except Exception as e:\n",
    "        errors.append((pdf_path.name, str(e)))\n",
    "        print(f\"  ⚠️  Failed to load {pdf_path.name}: {e}\")"
   ]
  },
  {
   "cell_type": "code",
   "execution_count": 6,
   "metadata": {
    "id": "rrXoqBRgNdhd"
   },
   "outputs": [],
   "source": [
    "import tiktoken\n",
    "\n",
    "from langchain.text_splitter import RecursiveCharacterTextSplitter\n",
    "\n",
    "def tiktoken_len(text):\n",
    "    tokens = tiktoken.encoding_for_model(\"gpt-4o-mini\").encode(\n",
    "        text,\n",
    "    )\n",
    "    return len(tokens)"
   ]
  },
  {
   "cell_type": "code",
   "execution_count": 7,
   "metadata": {
    "id": "7NmcYYr9Ng51"
   },
   "outputs": [],
   "source": [
    "text_splitter2 = RecursiveCharacterTextSplitter(\n",
    "    chunk_size = 1000,\n",
    "    chunk_overlap = 100,\n",
    "    length_function = tiktoken_len,\n",
    ")"
   ]
  },
  {
   "cell_type": "code",
   "execution_count": 8,
   "metadata": {
    "id": "JOcIBv92Nkg3"
   },
   "outputs": [],
   "source": [
    "split_chunks2 = text_splitter2.split_documents(pdf_docs)"
   ]
  },
  {
   "cell_type": "code",
   "execution_count": 12,
   "metadata": {
    "colab": {
     "base_uri": "https://localhost:8080/"
    },
    "id": "I4BsgHzSd-Dk",
    "outputId": "d9e12751-045d-4388-da25-98273c18d6b3"
   },
   "outputs": [
    {
     "name": "stdout",
     "output_type": "stream",
     "text": [
      "Found existing installation: numpy 1.26.0\n",
      "Uninstalling numpy-1.26.0:\n",
      "  Would remove:\n",
      "    /usr/local/bin/f2py\n",
      "    /usr/local/lib/python3.11/dist-packages/numpy-1.26.0.dist-info/*\n",
      "    /usr/local/lib/python3.11/dist-packages/numpy.libs/libgfortran-040039e1.so.5.0.0\n",
      "    /usr/local/lib/python3.11/dist-packages/numpy.libs/libopenblas64_p-r0-0cf96a72.3.23.dev.so\n",
      "    /usr/local/lib/python3.11/dist-packages/numpy.libs/libquadmath-96973f99.so.0.0.0\n",
      "    /usr/local/lib/python3.11/dist-packages/numpy/*\n",
      "Proceed (Y/n)? y\n",
      "  Successfully uninstalled numpy-1.26.0\n",
      "\u001b[2K   \u001b[90m━━━━━━━━━━━━━━━━━━━━━━━━━━━━━━━━━━━━━━━━\u001b[0m \u001b[32m17.3/17.3 MB\u001b[0m \u001b[31m121.9 MB/s\u001b[0m eta \u001b[36m0:00:00\u001b[0m\n",
      "\u001b[?25h\u001b[31mERROR: pip's dependency resolver does not currently take into account all the packages that are installed. This behaviour is the source of the following dependency conflicts.\n",
      "faiss-cpu 1.11.0 requires numpy<3.0,>=1.25.0, but you have numpy 1.24.3 which is incompatible.\n",
      "thinc 8.3.6 requires numpy<3.0.0,>=2.0.0, but you have numpy 1.24.3 which is incompatible.\n",
      "albumentations 2.0.6 requires numpy>=1.24.4, but you have numpy 1.24.3 which is incompatible.\n",
      "jaxlib 0.5.1 requires numpy>=1.25, but you have numpy 1.24.3 which is incompatible.\n",
      "jax 0.5.2 requires numpy>=1.25, but you have numpy 1.24.3 which is incompatible.\n",
      "blosc2 3.3.2 requires numpy>=1.26, but you have numpy 1.24.3 which is incompatible.\n",
      "albucore 0.0.24 requires numpy>=1.24.4, but you have numpy 1.24.3 which is incompatible.\n",
      "tensorflow 2.18.0 requires numpy<2.1.0,>=1.26.0, but you have numpy 1.24.3 which is incompatible.\n",
      "pymc 5.22.0 requires numpy>=1.25.0, but you have numpy 1.24.3 which is incompatible.\n",
      "treescope 0.1.9 requires numpy>=1.25.2, but you have numpy 1.24.3 which is incompatible.\n",
      "pylibcudf-cu12 25.2.1 requires pyarrow<20.0.0a0,>=14.0.0; platform_machine == \"x86_64\", but you have pyarrow 20.0.0 which is incompatible.\n",
      "cudf-cu12 25.2.1 requires pyarrow<20.0.0a0,>=14.0.0; platform_machine == \"x86_64\", but you have pyarrow 20.0.0 which is incompatible.\u001b[0m\u001b[31m\n",
      "\u001b[0mFound existing installation: transformers 4.51.3\n",
      "Uninstalling transformers-4.51.3:\n",
      "  Successfully uninstalled transformers-4.51.3\n",
      "Found existing installation: sentence-transformers 4.1.0\n",
      "Uninstalling sentence-transformers-4.1.0:\n",
      "  Successfully uninstalled sentence-transformers-4.1.0\n",
      "Found existing installation: scikit-learn 1.6.1\n",
      "Uninstalling scikit-learn-1.6.1:\n",
      "  Successfully uninstalled scikit-learn-1.6.1\n",
      "Found existing installation: scipy 1.15.3\n",
      "Uninstalling scipy-1.15.3:\n",
      "  Successfully uninstalled scipy-1.15.3\n",
      "\u001b[2K     \u001b[90m━━━━━━━━━━━━━━━━━━━━━━━━━━━━━━━━━━━━━━━━\u001b[0m \u001b[32m62.0/62.0 kB\u001b[0m \u001b[31m7.4 MB/s\u001b[0m eta \u001b[36m0:00:00\u001b[0m\n",
      "\u001b[2K   \u001b[90m━━━━━━━━━━━━━━━━━━━━━━━━━━━━━━━━━━━━━━━━\u001b[0m \u001b[32m10.4/10.4 MB\u001b[0m \u001b[31m112.9 MB/s\u001b[0m eta \u001b[36m0:00:00\u001b[0m\n",
      "\u001b[2K   \u001b[90m━━━━━━━━━━━━━━━━━━━━━━━━━━━━━━━━━━━━━━━━\u001b[0m \u001b[32m345.7/345.7 kB\u001b[0m \u001b[31m33.7 MB/s\u001b[0m eta \u001b[36m0:00:00\u001b[0m\n",
      "\u001b[2K   \u001b[90m━━━━━━━━━━━━━━━━━━━━━━━━━━━━━━━━━━━━━━━━\u001b[0m \u001b[32m13.5/13.5 MB\u001b[0m \u001b[31m134.2 MB/s\u001b[0m eta \u001b[36m0:00:00\u001b[0m\n",
      "\u001b[2K   \u001b[90m━━━━━━━━━━━━━━━━━━━━━━━━━━━━━━━━━━━━━━━━\u001b[0m \u001b[32m37.7/37.7 MB\u001b[0m \u001b[31m65.2 MB/s\u001b[0m eta \u001b[36m0:00:00\u001b[0m\n",
      "\u001b[?25h\u001b[31mERROR: pip's dependency resolver does not currently take into account all the packages that are installed. This behaviour is the source of the following dependency conflicts.\n",
      "albumentations 2.0.6 requires numpy>=1.24.4, but you have numpy 1.24.3 which is incompatible.\n",
      "jaxlib 0.5.1 requires numpy>=1.25, but you have numpy 1.24.3 which is incompatible.\n",
      "jax 0.5.2 requires numpy>=1.25, but you have numpy 1.24.3 which is incompatible.\n",
      "pymc 5.22.0 requires numpy>=1.25.0, but you have numpy 1.24.3 which is incompatible.\u001b[0m\u001b[31m\n",
      "\u001b[0m"
     ]
    }
   ],
   "source": [
    "!pip uninstall numpy\n",
    "!pip install -qU numpy==1.24.3\n",
    "!pip uninstall -y transformers sentence_transformers scikit-learn scipy\n",
    "!pip install -qU transformers sentence_transformers scikit-learn scipy"
   ]
  },
  {
   "cell_type": "code",
   "execution_count": 11,
   "metadata": {
    "colab": {
     "base_uri": "https://localhost:8080/",
     "height": 826
    },
    "id": "vy3TRDW-cmdS",
    "outputId": "deee0fd9-183e-47ab-cd18-4e526bb24aba"
   },
   "outputs": [
    {
     "ename": "RuntimeError",
     "evalue": "Failed to import transformers.models.auto.modeling_auto because of the following error (look up to see its traceback):\nFailed to import transformers.generation.utils because of the following error (look up to see its traceback):\nnumpy.dtype size changed, may indicate binary incompatibility. Expected 96 from C header, got 88 from PyObject",
     "output_type": "error",
     "traceback": [
      "\u001b[0;31m---------------------------------------------------------------------------\u001b[0m",
      "\u001b[0;31mValueError\u001b[0m                                Traceback (most recent call last)",
      "\u001b[0;32m/usr/local/lib/python3.11/dist-packages/transformers/utils/import_utils.py\u001b[0m in \u001b[0;36m_get_module\u001b[0;34m(self, module_name)\u001b[0m\n\u001b[1;32m   1966\u001b[0m         \u001b[0;32mtry\u001b[0m\u001b[0;34m:\u001b[0m\u001b[0;34m\u001b[0m\u001b[0;34m\u001b[0m\u001b[0m\n\u001b[0;32m-> 1967\u001b[0;31m             \u001b[0;32mreturn\u001b[0m \u001b[0mimportlib\u001b[0m\u001b[0;34m.\u001b[0m\u001b[0mimport_module\u001b[0m\u001b[0;34m(\u001b[0m\u001b[0;34m\".\"\u001b[0m \u001b[0;34m+\u001b[0m \u001b[0mmodule_name\u001b[0m\u001b[0;34m,\u001b[0m \u001b[0mself\u001b[0m\u001b[0;34m.\u001b[0m\u001b[0m__name__\u001b[0m\u001b[0;34m)\u001b[0m\u001b[0;34m\u001b[0m\u001b[0;34m\u001b[0m\u001b[0m\n\u001b[0m\u001b[1;32m   1968\u001b[0m         \u001b[0;32mexcept\u001b[0m \u001b[0mException\u001b[0m \u001b[0;32mas\u001b[0m \u001b[0me\u001b[0m\u001b[0;34m:\u001b[0m\u001b[0;34m\u001b[0m\u001b[0;34m\u001b[0m\u001b[0m\n",
      "\u001b[0;32m/usr/lib/python3.11/importlib/__init__.py\u001b[0m in \u001b[0;36mimport_module\u001b[0;34m(name, package)\u001b[0m\n\u001b[1;32m    125\u001b[0m             \u001b[0mlevel\u001b[0m \u001b[0;34m+=\u001b[0m \u001b[0;36m1\u001b[0m\u001b[0;34m\u001b[0m\u001b[0;34m\u001b[0m\u001b[0m\n\u001b[0;32m--> 126\u001b[0;31m     \u001b[0;32mreturn\u001b[0m \u001b[0m_bootstrap\u001b[0m\u001b[0;34m.\u001b[0m\u001b[0m_gcd_import\u001b[0m\u001b[0;34m(\u001b[0m\u001b[0mname\u001b[0m\u001b[0;34m[\u001b[0m\u001b[0mlevel\u001b[0m\u001b[0;34m:\u001b[0m\u001b[0;34m]\u001b[0m\u001b[0;34m,\u001b[0m \u001b[0mpackage\u001b[0m\u001b[0;34m,\u001b[0m \u001b[0mlevel\u001b[0m\u001b[0;34m)\u001b[0m\u001b[0;34m\u001b[0m\u001b[0;34m\u001b[0m\u001b[0m\n\u001b[0m\u001b[1;32m    127\u001b[0m \u001b[0;34m\u001b[0m\u001b[0m\n",
      "\u001b[0;32m/usr/lib/python3.11/importlib/_bootstrap.py\u001b[0m in \u001b[0;36m_gcd_import\u001b[0;34m(name, package, level)\u001b[0m\n",
      "\u001b[0;32m/usr/lib/python3.11/importlib/_bootstrap.py\u001b[0m in \u001b[0;36m_find_and_load\u001b[0;34m(name, import_)\u001b[0m\n",
      "\u001b[0;32m/usr/lib/python3.11/importlib/_bootstrap.py\u001b[0m in \u001b[0;36m_find_and_load_unlocked\u001b[0;34m(name, import_)\u001b[0m\n",
      "\u001b[0;32m/usr/lib/python3.11/importlib/_bootstrap.py\u001b[0m in \u001b[0;36m_load_unlocked\u001b[0;34m(spec)\u001b[0m\n",
      "\u001b[0;32m/usr/lib/python3.11/importlib/_bootstrap_external.py\u001b[0m in \u001b[0;36mexec_module\u001b[0;34m(self, module)\u001b[0m\n",
      "\u001b[0;32m/usr/lib/python3.11/importlib/_bootstrap.py\u001b[0m in \u001b[0;36m_call_with_frames_removed\u001b[0;34m(f, *args, **kwds)\u001b[0m\n",
      "\u001b[0;32m/usr/local/lib/python3.11/dist-packages/transformers/generation/utils.py\u001b[0m in \u001b[0;36m<module>\u001b[0;34m\u001b[0m\n\u001b[1;32m     29\u001b[0m \u001b[0;34m\u001b[0m\u001b[0m\n\u001b[0;32m---> 30\u001b[0;31m \u001b[0;32mfrom\u001b[0m \u001b[0mtransformers\u001b[0m\u001b[0;34m.\u001b[0m\u001b[0mgeneration\u001b[0m\u001b[0;34m.\u001b[0m\u001b[0mcandidate_generator\u001b[0m \u001b[0;32mimport\u001b[0m \u001b[0mAssistantVocabTranslatorCache\u001b[0m\u001b[0;34m\u001b[0m\u001b[0;34m\u001b[0m\u001b[0m\n\u001b[0m\u001b[1;32m     31\u001b[0m \u001b[0;34m\u001b[0m\u001b[0m\n",
      "\u001b[0;32m/usr/local/lib/python3.11/dist-packages/transformers/generation/candidate_generator.py\u001b[0m in \u001b[0;36m<module>\u001b[0;34m\u001b[0m\n\u001b[1;32m     26\u001b[0m \u001b[0;32mif\u001b[0m \u001b[0mis_sklearn_available\u001b[0m\u001b[0;34m(\u001b[0m\u001b[0;34m)\u001b[0m\u001b[0;34m:\u001b[0m\u001b[0;34m\u001b[0m\u001b[0;34m\u001b[0m\u001b[0m\n\u001b[0;32m---> 27\u001b[0;31m     \u001b[0;32mfrom\u001b[0m \u001b[0msklearn\u001b[0m\u001b[0;34m.\u001b[0m\u001b[0mmetrics\u001b[0m \u001b[0;32mimport\u001b[0m \u001b[0mroc_curve\u001b[0m\u001b[0;34m\u001b[0m\u001b[0;34m\u001b[0m\u001b[0m\n\u001b[0m\u001b[1;32m     28\u001b[0m \u001b[0;34m\u001b[0m\u001b[0m\n",
      "\u001b[0;32m/usr/local/lib/python3.11/dist-packages/sklearn/__init__.py\u001b[0m in \u001b[0;36m<module>\u001b[0;34m\u001b[0m\n\u001b[1;32m     72\u001b[0m )\n\u001b[0;32m---> 73\u001b[0;31m \u001b[0;32mfrom\u001b[0m \u001b[0;34m.\u001b[0m\u001b[0mbase\u001b[0m \u001b[0;32mimport\u001b[0m \u001b[0mclone\u001b[0m  \u001b[0;31m# noqa: E402\u001b[0m\u001b[0;34m\u001b[0m\u001b[0;34m\u001b[0m\u001b[0m\n\u001b[0m\u001b[1;32m     74\u001b[0m \u001b[0;32mfrom\u001b[0m \u001b[0;34m.\u001b[0m\u001b[0mutils\u001b[0m\u001b[0;34m.\u001b[0m\u001b[0m_show_versions\u001b[0m \u001b[0;32mimport\u001b[0m \u001b[0mshow_versions\u001b[0m  \u001b[0;31m# noqa: E402\u001b[0m\u001b[0;34m\u001b[0m\u001b[0;34m\u001b[0m\u001b[0m\n",
      "\u001b[0;32m/usr/local/lib/python3.11/dist-packages/sklearn/base.py\u001b[0m in \u001b[0;36m<module>\u001b[0;34m\u001b[0m\n\u001b[1;32m     18\u001b[0m \u001b[0;32mfrom\u001b[0m \u001b[0;34m.\u001b[0m\u001b[0mexceptions\u001b[0m \u001b[0;32mimport\u001b[0m \u001b[0mInconsistentVersionWarning\u001b[0m\u001b[0;34m\u001b[0m\u001b[0;34m\u001b[0m\u001b[0m\n\u001b[0;32m---> 19\u001b[0;31m \u001b[0;32mfrom\u001b[0m \u001b[0;34m.\u001b[0m\u001b[0mutils\u001b[0m\u001b[0;34m.\u001b[0m\u001b[0m_estimator_html_repr\u001b[0m \u001b[0;32mimport\u001b[0m \u001b[0m_HTMLDocumentationLinkMixin\u001b[0m\u001b[0;34m,\u001b[0m \u001b[0mestimator_html_repr\u001b[0m\u001b[0;34m\u001b[0m\u001b[0;34m\u001b[0m\u001b[0m\n\u001b[0m\u001b[1;32m     20\u001b[0m \u001b[0;32mfrom\u001b[0m \u001b[0;34m.\u001b[0m\u001b[0mutils\u001b[0m\u001b[0;34m.\u001b[0m\u001b[0m_metadata_requests\u001b[0m \u001b[0;32mimport\u001b[0m \u001b[0m_MetadataRequester\u001b[0m\u001b[0;34m,\u001b[0m \u001b[0m_routing_enabled\u001b[0m\u001b[0;34m\u001b[0m\u001b[0;34m\u001b[0m\u001b[0m\n",
      "\u001b[0;32m/usr/local/lib/python3.11/dist-packages/sklearn/utils/__init__.py\u001b[0m in \u001b[0;36m<module>\u001b[0;34m\u001b[0m\n\u001b[1;32m     14\u001b[0m \u001b[0;32mfrom\u001b[0m \u001b[0;34m.\u001b[0m\u001b[0m_bunch\u001b[0m \u001b[0;32mimport\u001b[0m \u001b[0mBunch\u001b[0m\u001b[0;34m\u001b[0m\u001b[0;34m\u001b[0m\u001b[0m\n\u001b[0;32m---> 15\u001b[0;31m \u001b[0;32mfrom\u001b[0m \u001b[0;34m.\u001b[0m\u001b[0m_chunking\u001b[0m \u001b[0;32mimport\u001b[0m \u001b[0mgen_batches\u001b[0m\u001b[0;34m,\u001b[0m \u001b[0mgen_even_slices\u001b[0m\u001b[0;34m\u001b[0m\u001b[0;34m\u001b[0m\u001b[0m\n\u001b[0m\u001b[1;32m     16\u001b[0m \u001b[0;32mfrom\u001b[0m \u001b[0;34m.\u001b[0m\u001b[0m_estimator_html_repr\u001b[0m \u001b[0;32mimport\u001b[0m \u001b[0mestimator_html_repr\u001b[0m\u001b[0;34m\u001b[0m\u001b[0;34m\u001b[0m\u001b[0m\n",
      "\u001b[0;32m/usr/local/lib/python3.11/dist-packages/sklearn/utils/_chunking.py\u001b[0m in \u001b[0;36m<module>\u001b[0;34m\u001b[0m\n\u001b[1;32m     10\u001b[0m \u001b[0;32mfrom\u001b[0m \u001b[0;34m.\u001b[0m\u001b[0;34m.\u001b[0m\u001b[0m_config\u001b[0m \u001b[0;32mimport\u001b[0m \u001b[0mget_config\u001b[0m\u001b[0;34m\u001b[0m\u001b[0;34m\u001b[0m\u001b[0m\n\u001b[0;32m---> 11\u001b[0;31m \u001b[0;32mfrom\u001b[0m \u001b[0;34m.\u001b[0m\u001b[0m_param_validation\u001b[0m \u001b[0;32mimport\u001b[0m \u001b[0mInterval\u001b[0m\u001b[0;34m,\u001b[0m \u001b[0mvalidate_params\u001b[0m\u001b[0;34m\u001b[0m\u001b[0;34m\u001b[0m\u001b[0m\n\u001b[0m\u001b[1;32m     12\u001b[0m \u001b[0;34m\u001b[0m\u001b[0m\n",
      "\u001b[0;32m/usr/local/lib/python3.11/dist-packages/sklearn/utils/_param_validation.py\u001b[0m in \u001b[0;36m<module>\u001b[0;34m\u001b[0m\n\u001b[1;32m     13\u001b[0m \u001b[0;32mimport\u001b[0m \u001b[0mnumpy\u001b[0m \u001b[0;32mas\u001b[0m \u001b[0mnp\u001b[0m\u001b[0;34m\u001b[0m\u001b[0;34m\u001b[0m\u001b[0m\n\u001b[0;32m---> 14\u001b[0;31m \u001b[0;32mfrom\u001b[0m \u001b[0mscipy\u001b[0m\u001b[0;34m.\u001b[0m\u001b[0msparse\u001b[0m \u001b[0;32mimport\u001b[0m \u001b[0mcsr_matrix\u001b[0m\u001b[0;34m,\u001b[0m \u001b[0missparse\u001b[0m\u001b[0;34m\u001b[0m\u001b[0;34m\u001b[0m\u001b[0m\n\u001b[0m\u001b[1;32m     15\u001b[0m \u001b[0;34m\u001b[0m\u001b[0m\n",
      "\u001b[0;32m/usr/local/lib/python3.11/dist-packages/scipy/sparse/__init__.py\u001b[0m in \u001b[0;36m<module>\u001b[0;34m\u001b[0m\n\u001b[1;32m    299\u001b[0m \u001b[0;34m\u001b[0m\u001b[0m\n\u001b[0;32m--> 300\u001b[0;31m \u001b[0;32mfrom\u001b[0m \u001b[0;34m.\u001b[0m\u001b[0m_base\u001b[0m \u001b[0;32mimport\u001b[0m \u001b[0;34m*\u001b[0m\u001b[0;34m\u001b[0m\u001b[0;34m\u001b[0m\u001b[0m\n\u001b[0m\u001b[1;32m    301\u001b[0m \u001b[0;32mfrom\u001b[0m \u001b[0;34m.\u001b[0m\u001b[0m_csr\u001b[0m \u001b[0;32mimport\u001b[0m \u001b[0;34m*\u001b[0m\u001b[0;34m\u001b[0m\u001b[0;34m\u001b[0m\u001b[0m\n",
      "\u001b[0;32m/usr/local/lib/python3.11/dist-packages/scipy/sparse/_base.py\u001b[0m in \u001b[0;36m<module>\u001b[0;34m\u001b[0m\n\u001b[1;32m      4\u001b[0m \u001b[0;34m\u001b[0m\u001b[0m\n\u001b[0;32m----> 5\u001b[0;31m from ._sputils import (asmatrix, check_reshape_kwargs, check_shape,\n\u001b[0m\u001b[1;32m      6\u001b[0m                        \u001b[0mget_sum_dtype\u001b[0m\u001b[0;34m,\u001b[0m \u001b[0misdense\u001b[0m\u001b[0;34m,\u001b[0m \u001b[0misscalarlike\u001b[0m\u001b[0;34m,\u001b[0m\u001b[0;34m\u001b[0m\u001b[0;34m\u001b[0m\u001b[0m\n",
      "\u001b[0;32m/usr/local/lib/python3.11/dist-packages/scipy/sparse/_sputils.py\u001b[0m in \u001b[0;36m<module>\u001b[0;34m\u001b[0m\n\u001b[1;32m      9\u001b[0m \u001b[0;32mimport\u001b[0m \u001b[0mscipy\u001b[0m\u001b[0;34m.\u001b[0m\u001b[0msparse\u001b[0m \u001b[0;32mas\u001b[0m \u001b[0msp\u001b[0m\u001b[0;34m\u001b[0m\u001b[0;34m\u001b[0m\u001b[0m\n\u001b[0;32m---> 10\u001b[0;31m \u001b[0;32mfrom\u001b[0m \u001b[0mscipy\u001b[0m\u001b[0;34m.\u001b[0m\u001b[0m_lib\u001b[0m\u001b[0;34m.\u001b[0m\u001b[0m_util\u001b[0m \u001b[0;32mimport\u001b[0m \u001b[0mnp_long\u001b[0m\u001b[0;34m,\u001b[0m \u001b[0mnp_ulong\u001b[0m\u001b[0;34m\u001b[0m\u001b[0;34m\u001b[0m\u001b[0m\n\u001b[0m\u001b[1;32m     11\u001b[0m \u001b[0;34m\u001b[0m\u001b[0m\n",
      "\u001b[0;32m/usr/local/lib/python3.11/dist-packages/scipy/_lib/_util.py\u001b[0m in \u001b[0;36m<module>\u001b[0;34m\u001b[0m\n\u001b[1;32m     12\u001b[0m \u001b[0;32mimport\u001b[0m \u001b[0mnumpy\u001b[0m \u001b[0;32mas\u001b[0m \u001b[0mnp\u001b[0m\u001b[0;34m\u001b[0m\u001b[0;34m\u001b[0m\u001b[0m\n\u001b[0;32m---> 13\u001b[0;31m \u001b[0;32mfrom\u001b[0m \u001b[0mscipy\u001b[0m\u001b[0;34m.\u001b[0m\u001b[0m_lib\u001b[0m\u001b[0;34m.\u001b[0m\u001b[0m_array_api\u001b[0m \u001b[0;32mimport\u001b[0m \u001b[0marray_namespace\u001b[0m\u001b[0;34m,\u001b[0m \u001b[0mis_numpy\u001b[0m\u001b[0;34m,\u001b[0m \u001b[0mxp_size\u001b[0m\u001b[0;34m\u001b[0m\u001b[0;34m\u001b[0m\u001b[0m\n\u001b[0m\u001b[1;32m     14\u001b[0m \u001b[0;32mfrom\u001b[0m \u001b[0mscipy\u001b[0m\u001b[0;34m.\u001b[0m\u001b[0m_lib\u001b[0m\u001b[0;34m.\u001b[0m\u001b[0m_docscrape\u001b[0m \u001b[0;32mimport\u001b[0m \u001b[0mFunctionDoc\u001b[0m\u001b[0;34m,\u001b[0m \u001b[0mParameter\u001b[0m\u001b[0;34m\u001b[0m\u001b[0;34m\u001b[0m\u001b[0m\n",
      "\u001b[0;32m/usr/local/lib/python3.11/dist-packages/scipy/_lib/_array_api.py\u001b[0m in \u001b[0;36m<module>\u001b[0;34m\u001b[0m\n\u001b[1;32m     17\u001b[0m \u001b[0;32mfrom\u001b[0m \u001b[0mscipy\u001b[0m\u001b[0;34m.\u001b[0m\u001b[0m_lib\u001b[0m \u001b[0;32mimport\u001b[0m \u001b[0marray_api_compat\u001b[0m\u001b[0;34m\u001b[0m\u001b[0;34m\u001b[0m\u001b[0m\n\u001b[0;32m---> 18\u001b[0;31m from scipy._lib.array_api_compat import (\n\u001b[0m\u001b[1;32m     19\u001b[0m     \u001b[0mis_array_api_obj\u001b[0m\u001b[0;34m,\u001b[0m\u001b[0;34m\u001b[0m\u001b[0;34m\u001b[0m\u001b[0m\n",
      "\u001b[0;32m/usr/local/lib/python3.11/dist-packages/scipy/_lib/array_api_compat/numpy/__init__.py\u001b[0m in \u001b[0;36m<module>\u001b[0;34m\u001b[0m\n\u001b[0;32m----> 1\u001b[0;31m \u001b[0;32mfrom\u001b[0m \u001b[0mnumpy\u001b[0m \u001b[0;32mimport\u001b[0m \u001b[0;34m*\u001b[0m \u001b[0;31m# noqa: F403\u001b[0m\u001b[0;34m\u001b[0m\u001b[0;34m\u001b[0m\u001b[0m\n\u001b[0m\u001b[1;32m      2\u001b[0m \u001b[0;34m\u001b[0m\u001b[0m\n\u001b[1;32m      3\u001b[0m \u001b[0;31m# from numpy import * doesn't overwrite these builtin names\u001b[0m\u001b[0;34m\u001b[0m\u001b[0;34m\u001b[0m\u001b[0m\n",
      "\u001b[0;32m/usr/lib/python3.11/importlib/_bootstrap.py\u001b[0m in \u001b[0;36m_handle_fromlist\u001b[0;34m(module, fromlist, import_, recursive)\u001b[0m\n",
      "\u001b[0;32m/usr/lib/python3.11/importlib/_bootstrap.py\u001b[0m in \u001b[0;36m_handle_fromlist\u001b[0;34m(module, fromlist, import_, recursive)\u001b[0m\n",
      "\u001b[0;32m/usr/local/lib/python3.11/dist-packages/numpy/__init__.py\u001b[0m in \u001b[0;36m__getattr__\u001b[0;34m(attr)\u001b[0m\n\u001b[1;32m    336\u001b[0m     \u001b[0;32mdef\u001b[0m \u001b[0m__dir__\u001b[0m\u001b[0;34m(\u001b[0m\u001b[0;34m)\u001b[0m\u001b[0;34m:\u001b[0m\u001b[0;34m\u001b[0m\u001b[0;34m\u001b[0m\u001b[0m\n\u001b[0;32m--> 337\u001b[0;31m         \u001b[0mpublic_symbols\u001b[0m \u001b[0;34m=\u001b[0m \u001b[0mglobals\u001b[0m\u001b[0;34m(\u001b[0m\u001b[0;34m)\u001b[0m\u001b[0;34m.\u001b[0m\u001b[0mkeys\u001b[0m\u001b[0;34m(\u001b[0m\u001b[0;34m)\u001b[0m \u001b[0;34m|\u001b[0m \u001b[0;34m{\u001b[0m\u001b[0;34m'testing'\u001b[0m\u001b[0;34m}\u001b[0m\u001b[0;34m\u001b[0m\u001b[0;34m\u001b[0m\u001b[0m\n\u001b[0m\u001b[1;32m    338\u001b[0m         public_symbols -= {\n",
      "\u001b[0;32m/usr/local/lib/python3.11/dist-packages/numpy/random/__init__.py\u001b[0m in \u001b[0;36m<module>\u001b[0;34m\u001b[0m\n\u001b[1;32m    179\u001b[0m \u001b[0;31m# add these for module-freeze analysis (like PyInstaller)\u001b[0m\u001b[0;34m\u001b[0m\u001b[0;34m\u001b[0m\u001b[0m\n\u001b[0;32m--> 180\u001b[0;31m \u001b[0;32mfrom\u001b[0m \u001b[0;34m.\u001b[0m \u001b[0;32mimport\u001b[0m \u001b[0m_pickle\u001b[0m\u001b[0;34m\u001b[0m\u001b[0;34m\u001b[0m\u001b[0m\n\u001b[0m\u001b[1;32m    181\u001b[0m \u001b[0;32mfrom\u001b[0m \u001b[0;34m.\u001b[0m \u001b[0;32mimport\u001b[0m \u001b[0m_common\u001b[0m\u001b[0;34m\u001b[0m\u001b[0;34m\u001b[0m\u001b[0m\n",
      "\u001b[0;32m/usr/local/lib/python3.11/dist-packages/numpy/random/_pickle.py\u001b[0m in \u001b[0;36m<module>\u001b[0;34m\u001b[0m\n\u001b[0;32m----> 1\u001b[0;31m \u001b[0;32mfrom\u001b[0m \u001b[0;34m.\u001b[0m\u001b[0mmtrand\u001b[0m \u001b[0;32mimport\u001b[0m \u001b[0mRandomState\u001b[0m\u001b[0;34m\u001b[0m\u001b[0;34m\u001b[0m\u001b[0m\n\u001b[0m\u001b[1;32m      2\u001b[0m \u001b[0;32mfrom\u001b[0m \u001b[0;34m.\u001b[0m\u001b[0m_philox\u001b[0m \u001b[0;32mimport\u001b[0m \u001b[0mPhilox\u001b[0m\u001b[0;34m\u001b[0m\u001b[0;34m\u001b[0m\u001b[0m\n\u001b[1;32m      3\u001b[0m \u001b[0;32mfrom\u001b[0m \u001b[0;34m.\u001b[0m\u001b[0m_pcg64\u001b[0m \u001b[0;32mimport\u001b[0m \u001b[0mPCG64\u001b[0m\u001b[0;34m,\u001b[0m \u001b[0mPCG64DXSM\u001b[0m\u001b[0;34m\u001b[0m\u001b[0;34m\u001b[0m\u001b[0m\n",
      "\u001b[0;32mnumpy/random/mtrand.pyx\u001b[0m in \u001b[0;36minit numpy.random.mtrand\u001b[0;34m()\u001b[0m\n",
      "\u001b[0;31mValueError\u001b[0m: numpy.dtype size changed, may indicate binary incompatibility. Expected 96 from C header, got 88 from PyObject",
      "\nThe above exception was the direct cause of the following exception:\n",
      "\u001b[0;31mRuntimeError\u001b[0m                              Traceback (most recent call last)",
      "\u001b[0;32m/usr/local/lib/python3.11/dist-packages/transformers/utils/import_utils.py\u001b[0m in \u001b[0;36m_get_module\u001b[0;34m(self, module_name)\u001b[0m\n\u001b[1;32m   1966\u001b[0m         \u001b[0;32mtry\u001b[0m\u001b[0;34m:\u001b[0m\u001b[0;34m\u001b[0m\u001b[0;34m\u001b[0m\u001b[0m\n\u001b[0;32m-> 1967\u001b[0;31m             \u001b[0;32mreturn\u001b[0m \u001b[0mimportlib\u001b[0m\u001b[0;34m.\u001b[0m\u001b[0mimport_module\u001b[0m\u001b[0;34m(\u001b[0m\u001b[0;34m\".\"\u001b[0m \u001b[0;34m+\u001b[0m \u001b[0mmodule_name\u001b[0m\u001b[0;34m,\u001b[0m \u001b[0mself\u001b[0m\u001b[0;34m.\u001b[0m\u001b[0m__name__\u001b[0m\u001b[0;34m)\u001b[0m\u001b[0;34m\u001b[0m\u001b[0;34m\u001b[0m\u001b[0m\n\u001b[0m\u001b[1;32m   1968\u001b[0m         \u001b[0;32mexcept\u001b[0m \u001b[0mException\u001b[0m \u001b[0;32mas\u001b[0m \u001b[0me\u001b[0m\u001b[0;34m:\u001b[0m\u001b[0;34m\u001b[0m\u001b[0;34m\u001b[0m\u001b[0m\n",
      "\u001b[0;32m/usr/lib/python3.11/importlib/__init__.py\u001b[0m in \u001b[0;36mimport_module\u001b[0;34m(name, package)\u001b[0m\n\u001b[1;32m    125\u001b[0m             \u001b[0mlevel\u001b[0m \u001b[0;34m+=\u001b[0m \u001b[0;36m1\u001b[0m\u001b[0;34m\u001b[0m\u001b[0;34m\u001b[0m\u001b[0m\n\u001b[0;32m--> 126\u001b[0;31m     \u001b[0;32mreturn\u001b[0m \u001b[0m_bootstrap\u001b[0m\u001b[0;34m.\u001b[0m\u001b[0m_gcd_import\u001b[0m\u001b[0;34m(\u001b[0m\u001b[0mname\u001b[0m\u001b[0;34m[\u001b[0m\u001b[0mlevel\u001b[0m\u001b[0;34m:\u001b[0m\u001b[0;34m]\u001b[0m\u001b[0;34m,\u001b[0m \u001b[0mpackage\u001b[0m\u001b[0;34m,\u001b[0m \u001b[0mlevel\u001b[0m\u001b[0;34m)\u001b[0m\u001b[0;34m\u001b[0m\u001b[0;34m\u001b[0m\u001b[0m\n\u001b[0m\u001b[1;32m    127\u001b[0m \u001b[0;34m\u001b[0m\u001b[0m\n",
      "\u001b[0;32m/usr/lib/python3.11/importlib/_bootstrap.py\u001b[0m in \u001b[0;36m_gcd_import\u001b[0;34m(name, package, level)\u001b[0m\n",
      "\u001b[0;32m/usr/lib/python3.11/importlib/_bootstrap.py\u001b[0m in \u001b[0;36m_find_and_load\u001b[0;34m(name, import_)\u001b[0m\n",
      "\u001b[0;32m/usr/lib/python3.11/importlib/_bootstrap.py\u001b[0m in \u001b[0;36m_find_and_load_unlocked\u001b[0;34m(name, import_)\u001b[0m\n",
      "\u001b[0;32m/usr/lib/python3.11/importlib/_bootstrap.py\u001b[0m in \u001b[0;36m_load_unlocked\u001b[0;34m(spec)\u001b[0m\n",
      "\u001b[0;32m/usr/lib/python3.11/importlib/_bootstrap_external.py\u001b[0m in \u001b[0;36mexec_module\u001b[0;34m(self, module)\u001b[0m\n",
      "\u001b[0;32m/usr/lib/python3.11/importlib/_bootstrap.py\u001b[0m in \u001b[0;36m_call_with_frames_removed\u001b[0;34m(f, *args, **kwds)\u001b[0m\n",
      "\u001b[0;32m/usr/local/lib/python3.11/dist-packages/transformers/models/auto/modeling_auto.py\u001b[0m in \u001b[0;36m<module>\u001b[0;34m\u001b[0m\n\u001b[1;32m     20\u001b[0m \u001b[0;32mfrom\u001b[0m \u001b[0;34m...\u001b[0m\u001b[0mutils\u001b[0m \u001b[0;32mimport\u001b[0m \u001b[0mlogging\u001b[0m\u001b[0;34m\u001b[0m\u001b[0;34m\u001b[0m\u001b[0m\n\u001b[0;32m---> 21\u001b[0;31m from .auto_factory import (\n\u001b[0m\u001b[1;32m     22\u001b[0m     \u001b[0m_BaseAutoBackboneClass\u001b[0m\u001b[0;34m,\u001b[0m\u001b[0;34m\u001b[0m\u001b[0;34m\u001b[0m\u001b[0m\n",
      "\u001b[0;32m/usr/local/lib/python3.11/dist-packages/transformers/models/auto/auto_factory.py\u001b[0m in \u001b[0;36m<module>\u001b[0;34m\u001b[0m\n\u001b[1;32m     39\u001b[0m \u001b[0;32mif\u001b[0m \u001b[0mis_torch_available\u001b[0m\u001b[0;34m(\u001b[0m\u001b[0;34m)\u001b[0m\u001b[0;34m:\u001b[0m\u001b[0;34m\u001b[0m\u001b[0;34m\u001b[0m\u001b[0m\n\u001b[0;32m---> 40\u001b[0;31m     \u001b[0;32mfrom\u001b[0m \u001b[0;34m...\u001b[0m\u001b[0mgeneration\u001b[0m \u001b[0;32mimport\u001b[0m \u001b[0mGenerationMixin\u001b[0m\u001b[0;34m\u001b[0m\u001b[0;34m\u001b[0m\u001b[0m\n\u001b[0m\u001b[1;32m     41\u001b[0m \u001b[0;34m\u001b[0m\u001b[0m\n",
      "\u001b[0;32m/usr/lib/python3.11/importlib/_bootstrap.py\u001b[0m in \u001b[0;36m_handle_fromlist\u001b[0;34m(module, fromlist, import_, recursive)\u001b[0m\n",
      "\u001b[0;32m/usr/local/lib/python3.11/dist-packages/transformers/utils/import_utils.py\u001b[0m in \u001b[0;36m__getattr__\u001b[0;34m(self, name)\u001b[0m\n\u001b[1;32m   1954\u001b[0m         \u001b[0;32melif\u001b[0m \u001b[0mname\u001b[0m \u001b[0;32min\u001b[0m \u001b[0mself\u001b[0m\u001b[0;34m.\u001b[0m\u001b[0m_class_to_module\u001b[0m\u001b[0;34m.\u001b[0m\u001b[0mkeys\u001b[0m\u001b[0;34m(\u001b[0m\u001b[0;34m)\u001b[0m\u001b[0;34m:\u001b[0m\u001b[0;34m\u001b[0m\u001b[0;34m\u001b[0m\u001b[0m\n\u001b[0;32m-> 1955\u001b[0;31m             \u001b[0mmodule\u001b[0m \u001b[0;34m=\u001b[0m \u001b[0mself\u001b[0m\u001b[0;34m.\u001b[0m\u001b[0m_get_module\u001b[0m\u001b[0;34m(\u001b[0m\u001b[0mself\u001b[0m\u001b[0;34m.\u001b[0m\u001b[0m_class_to_module\u001b[0m\u001b[0;34m[\u001b[0m\u001b[0mname\u001b[0m\u001b[0;34m]\u001b[0m\u001b[0;34m)\u001b[0m\u001b[0;34m\u001b[0m\u001b[0;34m\u001b[0m\u001b[0m\n\u001b[0m\u001b[1;32m   1956\u001b[0m             \u001b[0mvalue\u001b[0m \u001b[0;34m=\u001b[0m \u001b[0mgetattr\u001b[0m\u001b[0;34m(\u001b[0m\u001b[0mmodule\u001b[0m\u001b[0;34m,\u001b[0m \u001b[0mname\u001b[0m\u001b[0;34m)\u001b[0m\u001b[0;34m\u001b[0m\u001b[0;34m\u001b[0m\u001b[0m\n",
      "\u001b[0;32m/usr/local/lib/python3.11/dist-packages/transformers/utils/import_utils.py\u001b[0m in \u001b[0;36m_get_module\u001b[0;34m(self, module_name)\u001b[0m\n\u001b[1;32m   1968\u001b[0m         \u001b[0;32mexcept\u001b[0m \u001b[0mException\u001b[0m \u001b[0;32mas\u001b[0m \u001b[0me\u001b[0m\u001b[0;34m:\u001b[0m\u001b[0;34m\u001b[0m\u001b[0;34m\u001b[0m\u001b[0m\n\u001b[0;32m-> 1969\u001b[0;31m             raise RuntimeError(\n\u001b[0m\u001b[1;32m   1970\u001b[0m                 \u001b[0;34mf\"Failed to import {self.__name__}.{module_name} because of the following error (look up to see its\"\u001b[0m\u001b[0;34m\u001b[0m\u001b[0;34m\u001b[0m\u001b[0m\n",
      "\u001b[0;31mRuntimeError\u001b[0m: Failed to import transformers.generation.utils because of the following error (look up to see its traceback):\nnumpy.dtype size changed, may indicate binary incompatibility. Expected 96 from C header, got 88 from PyObject",
      "\nThe above exception was the direct cause of the following exception:\n",
      "\u001b[0;31mRuntimeError\u001b[0m                              Traceback (most recent call last)",
      "\u001b[0;32m<ipython-input-11-af3f65afd96f>\u001b[0m in \u001b[0;36m<cell line: 0>\u001b[0;34m()\u001b[0m\n\u001b[1;32m      1\u001b[0m \u001b[0;32mfrom\u001b[0m \u001b[0mlangchain_huggingface\u001b[0m \u001b[0;32mimport\u001b[0m \u001b[0mHuggingFaceEmbeddings\u001b[0m\u001b[0;34m\u001b[0m\u001b[0;34m\u001b[0m\u001b[0m\n\u001b[1;32m      2\u001b[0m \u001b[0;34m\u001b[0m\u001b[0m\n\u001b[0;32m----> 3\u001b[0;31m \u001b[0membeddings4\u001b[0m \u001b[0;34m=\u001b[0m \u001b[0mHuggingFaceEmbeddings\u001b[0m\u001b[0;34m(\u001b[0m\u001b[0mmodel_name\u001b[0m\u001b[0;34m=\u001b[0m\u001b[0;34m\"vivnatan/snowflake-arctic-embed-l-medicare\"\u001b[0m\u001b[0;34m)\u001b[0m\u001b[0;34m\u001b[0m\u001b[0;34m\u001b[0m\u001b[0m\n\u001b[0m",
      "\u001b[0;32m/usr/local/lib/python3.11/dist-packages/langchain_huggingface/embeddings/huggingface.py\u001b[0m in \u001b[0;36m__init__\u001b[0;34m(self, **kwargs)\u001b[0m\n\u001b[1;32m     64\u001b[0m         \u001b[0msuper\u001b[0m\u001b[0;34m(\u001b[0m\u001b[0;34m)\u001b[0m\u001b[0;34m.\u001b[0m\u001b[0m__init__\u001b[0m\u001b[0;34m(\u001b[0m\u001b[0;34m**\u001b[0m\u001b[0mkwargs\u001b[0m\u001b[0;34m)\u001b[0m\u001b[0;34m\u001b[0m\u001b[0;34m\u001b[0m\u001b[0m\n\u001b[1;32m     65\u001b[0m         \u001b[0;32mtry\u001b[0m\u001b[0;34m:\u001b[0m\u001b[0;34m\u001b[0m\u001b[0;34m\u001b[0m\u001b[0m\n\u001b[0;32m---> 66\u001b[0;31m             \u001b[0;32mimport\u001b[0m \u001b[0msentence_transformers\u001b[0m  \u001b[0;31m# type: ignore[import]\u001b[0m\u001b[0;34m\u001b[0m\u001b[0;34m\u001b[0m\u001b[0m\n\u001b[0m\u001b[1;32m     67\u001b[0m         \u001b[0;32mexcept\u001b[0m \u001b[0mImportError\u001b[0m \u001b[0;32mas\u001b[0m \u001b[0mexc\u001b[0m\u001b[0;34m:\u001b[0m\u001b[0;34m\u001b[0m\u001b[0;34m\u001b[0m\u001b[0m\n\u001b[1;32m     68\u001b[0m             raise ImportError(\n",
      "\u001b[0;32m/usr/local/lib/python3.11/dist-packages/sentence_transformers/__init__.py\u001b[0m in \u001b[0;36m<module>\u001b[0;34m\u001b[0m\n\u001b[1;32m     12\u001b[0m     \u001b[0mexport_static_quantized_openvino_model\u001b[0m\u001b[0;34m,\u001b[0m\u001b[0;34m\u001b[0m\u001b[0;34m\u001b[0m\u001b[0m\n\u001b[1;32m     13\u001b[0m )\n\u001b[0;32m---> 14\u001b[0;31m from sentence_transformers.cross_encoder import (\n\u001b[0m\u001b[1;32m     15\u001b[0m     \u001b[0mCrossEncoder\u001b[0m\u001b[0;34m,\u001b[0m\u001b[0;34m\u001b[0m\u001b[0;34m\u001b[0m\u001b[0m\n\u001b[1;32m     16\u001b[0m     \u001b[0mCrossEncoderModelCardData\u001b[0m\u001b[0;34m,\u001b[0m\u001b[0;34m\u001b[0m\u001b[0;34m\u001b[0m\u001b[0m\n",
      "\u001b[0;32m/usr/local/lib/python3.11/dist-packages/sentence_transformers/cross_encoder/__init__.py\u001b[0m in \u001b[0;36m<module>\u001b[0;34m\u001b[0m\n\u001b[1;32m      1\u001b[0m \u001b[0;32mfrom\u001b[0m \u001b[0m__future__\u001b[0m \u001b[0;32mimport\u001b[0m \u001b[0mannotations\u001b[0m\u001b[0;34m\u001b[0m\u001b[0;34m\u001b[0m\u001b[0m\n\u001b[1;32m      2\u001b[0m \u001b[0;34m\u001b[0m\u001b[0m\n\u001b[0;32m----> 3\u001b[0;31m \u001b[0;32mfrom\u001b[0m \u001b[0;34m.\u001b[0m\u001b[0mCrossEncoder\u001b[0m \u001b[0;32mimport\u001b[0m \u001b[0mCrossEncoder\u001b[0m\u001b[0;34m\u001b[0m\u001b[0;34m\u001b[0m\u001b[0m\n\u001b[0m\u001b[1;32m      4\u001b[0m \u001b[0;32mfrom\u001b[0m \u001b[0;34m.\u001b[0m\u001b[0mmodel_card\u001b[0m \u001b[0;32mimport\u001b[0m \u001b[0mCrossEncoderModelCardData\u001b[0m\u001b[0;34m\u001b[0m\u001b[0;34m\u001b[0m\u001b[0m\n\u001b[1;32m      5\u001b[0m \u001b[0;32mfrom\u001b[0m \u001b[0;34m.\u001b[0m\u001b[0mtrainer\u001b[0m \u001b[0;32mimport\u001b[0m \u001b[0mCrossEncoderTrainer\u001b[0m\u001b[0;34m\u001b[0m\u001b[0;34m\u001b[0m\u001b[0m\n",
      "\u001b[0;32m/usr/local/lib/python3.11/dist-packages/sentence_transformers/cross_encoder/CrossEncoder.py\u001b[0m in \u001b[0;36m<module>\u001b[0;34m\u001b[0m\n\u001b[1;32m     17\u001b[0m \u001b[0;32mfrom\u001b[0m \u001b[0mtorch\u001b[0m \u001b[0;32mimport\u001b[0m \u001b[0mnn\u001b[0m\u001b[0;34m\u001b[0m\u001b[0;34m\u001b[0m\u001b[0m\n\u001b[1;32m     18\u001b[0m \u001b[0;32mfrom\u001b[0m \u001b[0mtqdm\u001b[0m\u001b[0;34m.\u001b[0m\u001b[0mautonotebook\u001b[0m \u001b[0;32mimport\u001b[0m \u001b[0mtrange\u001b[0m\u001b[0;34m\u001b[0m\u001b[0;34m\u001b[0m\u001b[0m\n\u001b[0;32m---> 19\u001b[0;31m from transformers import (\n\u001b[0m\u001b[1;32m     20\u001b[0m     \u001b[0mAutoConfig\u001b[0m\u001b[0;34m,\u001b[0m\u001b[0;34m\u001b[0m\u001b[0;34m\u001b[0m\u001b[0m\n\u001b[1;32m     21\u001b[0m     \u001b[0mAutoModelForSequenceClassification\u001b[0m\u001b[0;34m,\u001b[0m\u001b[0;34m\u001b[0m\u001b[0;34m\u001b[0m\u001b[0m\n",
      "\u001b[0;32m/usr/lib/python3.11/importlib/_bootstrap.py\u001b[0m in \u001b[0;36m_handle_fromlist\u001b[0;34m(module, fromlist, import_, recursive)\u001b[0m\n",
      "\u001b[0;32m/usr/local/lib/python3.11/dist-packages/transformers/utils/import_utils.py\u001b[0m in \u001b[0;36m__getattr__\u001b[0;34m(self, name)\u001b[0m\n\u001b[1;32m   1954\u001b[0m         \u001b[0;32melif\u001b[0m \u001b[0mname\u001b[0m \u001b[0;32min\u001b[0m \u001b[0mself\u001b[0m\u001b[0;34m.\u001b[0m\u001b[0m_class_to_module\u001b[0m\u001b[0;34m.\u001b[0m\u001b[0mkeys\u001b[0m\u001b[0;34m(\u001b[0m\u001b[0;34m)\u001b[0m\u001b[0;34m:\u001b[0m\u001b[0;34m\u001b[0m\u001b[0;34m\u001b[0m\u001b[0m\n\u001b[1;32m   1955\u001b[0m             \u001b[0mmodule\u001b[0m \u001b[0;34m=\u001b[0m \u001b[0mself\u001b[0m\u001b[0;34m.\u001b[0m\u001b[0m_get_module\u001b[0m\u001b[0;34m(\u001b[0m\u001b[0mself\u001b[0m\u001b[0;34m.\u001b[0m\u001b[0m_class_to_module\u001b[0m\u001b[0;34m[\u001b[0m\u001b[0mname\u001b[0m\u001b[0;34m]\u001b[0m\u001b[0;34m)\u001b[0m\u001b[0;34m\u001b[0m\u001b[0;34m\u001b[0m\u001b[0m\n\u001b[0;32m-> 1956\u001b[0;31m             \u001b[0mvalue\u001b[0m \u001b[0;34m=\u001b[0m \u001b[0mgetattr\u001b[0m\u001b[0;34m(\u001b[0m\u001b[0mmodule\u001b[0m\u001b[0;34m,\u001b[0m \u001b[0mname\u001b[0m\u001b[0;34m)\u001b[0m\u001b[0;34m\u001b[0m\u001b[0;34m\u001b[0m\u001b[0m\n\u001b[0m\u001b[1;32m   1957\u001b[0m         \u001b[0;32melif\u001b[0m \u001b[0mname\u001b[0m \u001b[0;32min\u001b[0m \u001b[0mself\u001b[0m\u001b[0;34m.\u001b[0m\u001b[0m_modules\u001b[0m\u001b[0;34m:\u001b[0m\u001b[0;34m\u001b[0m\u001b[0;34m\u001b[0m\u001b[0m\n\u001b[1;32m   1958\u001b[0m             \u001b[0mvalue\u001b[0m \u001b[0;34m=\u001b[0m \u001b[0mself\u001b[0m\u001b[0;34m.\u001b[0m\u001b[0m_get_module\u001b[0m\u001b[0;34m(\u001b[0m\u001b[0mname\u001b[0m\u001b[0;34m)\u001b[0m\u001b[0;34m\u001b[0m\u001b[0;34m\u001b[0m\u001b[0m\n",
      "\u001b[0;32m/usr/local/lib/python3.11/dist-packages/transformers/utils/import_utils.py\u001b[0m in \u001b[0;36m__getattr__\u001b[0;34m(self, name)\u001b[0m\n\u001b[1;32m   1953\u001b[0m             \u001b[0mvalue\u001b[0m \u001b[0;34m=\u001b[0m \u001b[0mPlaceholder\u001b[0m\u001b[0;34m\u001b[0m\u001b[0;34m\u001b[0m\u001b[0m\n\u001b[1;32m   1954\u001b[0m         \u001b[0;32melif\u001b[0m \u001b[0mname\u001b[0m \u001b[0;32min\u001b[0m \u001b[0mself\u001b[0m\u001b[0;34m.\u001b[0m\u001b[0m_class_to_module\u001b[0m\u001b[0;34m.\u001b[0m\u001b[0mkeys\u001b[0m\u001b[0;34m(\u001b[0m\u001b[0;34m)\u001b[0m\u001b[0;34m:\u001b[0m\u001b[0;34m\u001b[0m\u001b[0;34m\u001b[0m\u001b[0m\n\u001b[0;32m-> 1955\u001b[0;31m             \u001b[0mmodule\u001b[0m \u001b[0;34m=\u001b[0m \u001b[0mself\u001b[0m\u001b[0;34m.\u001b[0m\u001b[0m_get_module\u001b[0m\u001b[0;34m(\u001b[0m\u001b[0mself\u001b[0m\u001b[0;34m.\u001b[0m\u001b[0m_class_to_module\u001b[0m\u001b[0;34m[\u001b[0m\u001b[0mname\u001b[0m\u001b[0;34m]\u001b[0m\u001b[0;34m)\u001b[0m\u001b[0;34m\u001b[0m\u001b[0;34m\u001b[0m\u001b[0m\n\u001b[0m\u001b[1;32m   1956\u001b[0m             \u001b[0mvalue\u001b[0m \u001b[0;34m=\u001b[0m \u001b[0mgetattr\u001b[0m\u001b[0;34m(\u001b[0m\u001b[0mmodule\u001b[0m\u001b[0;34m,\u001b[0m \u001b[0mname\u001b[0m\u001b[0;34m)\u001b[0m\u001b[0;34m\u001b[0m\u001b[0;34m\u001b[0m\u001b[0m\n\u001b[1;32m   1957\u001b[0m         \u001b[0;32melif\u001b[0m \u001b[0mname\u001b[0m \u001b[0;32min\u001b[0m \u001b[0mself\u001b[0m\u001b[0;34m.\u001b[0m\u001b[0m_modules\u001b[0m\u001b[0;34m:\u001b[0m\u001b[0;34m\u001b[0m\u001b[0;34m\u001b[0m\u001b[0m\n",
      "\u001b[0;32m/usr/local/lib/python3.11/dist-packages/transformers/utils/import_utils.py\u001b[0m in \u001b[0;36m_get_module\u001b[0;34m(self, module_name)\u001b[0m\n\u001b[1;32m   1967\u001b[0m             \u001b[0;32mreturn\u001b[0m \u001b[0mimportlib\u001b[0m\u001b[0;34m.\u001b[0m\u001b[0mimport_module\u001b[0m\u001b[0;34m(\u001b[0m\u001b[0;34m\".\"\u001b[0m \u001b[0;34m+\u001b[0m \u001b[0mmodule_name\u001b[0m\u001b[0;34m,\u001b[0m \u001b[0mself\u001b[0m\u001b[0;34m.\u001b[0m\u001b[0m__name__\u001b[0m\u001b[0;34m)\u001b[0m\u001b[0;34m\u001b[0m\u001b[0;34m\u001b[0m\u001b[0m\n\u001b[1;32m   1968\u001b[0m         \u001b[0;32mexcept\u001b[0m \u001b[0mException\u001b[0m \u001b[0;32mas\u001b[0m \u001b[0me\u001b[0m\u001b[0;34m:\u001b[0m\u001b[0;34m\u001b[0m\u001b[0;34m\u001b[0m\u001b[0m\n\u001b[0;32m-> 1969\u001b[0;31m             raise RuntimeError(\n\u001b[0m\u001b[1;32m   1970\u001b[0m                 \u001b[0;34mf\"Failed to import {self.__name__}.{module_name} because of the following error (look up to see its\"\u001b[0m\u001b[0;34m\u001b[0m\u001b[0;34m\u001b[0m\u001b[0m\n\u001b[1;32m   1971\u001b[0m                 \u001b[0;34mf\" traceback):\\n{e}\"\u001b[0m\u001b[0;34m\u001b[0m\u001b[0;34m\u001b[0m\u001b[0m\n",
      "\u001b[0;31mRuntimeError\u001b[0m: Failed to import transformers.models.auto.modeling_auto because of the following error (look up to see its traceback):\nFailed to import transformers.generation.utils because of the following error (look up to see its traceback):\nnumpy.dtype size changed, may indicate binary incompatibility. Expected 96 from C header, got 88 from PyObject"
     ]
    }
   ],
   "source": [
    "from langchain_huggingface import HuggingFaceEmbeddings\n",
    "\n",
    "embeddings4 = HuggingFaceEmbeddings(model_name=\"vivnatan/snowflake-arctic-embed-l-medicare\")"
   ]
  },
  {
   "cell_type": "code",
   "execution_count": 28,
   "metadata": {
    "id": "EPdCFgdNMhrb"
   },
   "outputs": [],
   "source": [
    "from langchain.prompts import ChatPromptTemplate\n",
    "\n",
    "RAG_PROMPT = \"\"\"\\\n",
    "You are a seasoned health insurance advisor with over 30 years in the industry.\n",
    "You have tremendous knowledge about the industry and the different players.\n",
    "You keep track of the changes in regulations and you are here to advise the user with their questions or concerns.\n",
    "If there are any industry jargons in your responses make them easy to understand and provide details of what they are.\n",
    "Wherever available provide references.\n",
    "If you are unable to get the answer from the context provided, just say that you don't know. Don't try to make up an answer.\n",
    "\n",
    "### Question\n",
    "{question}\n",
    "\n",
    "### Context\n",
    "{context}\n",
    "\"\"\"\n",
    "\n",
    "rag_prompt = ChatPromptTemplate.from_template(RAG_PROMPT)"
   ]
  },
  {
   "cell_type": "code",
   "execution_count": 29,
   "metadata": {
    "id": "eew_Zz2jMeIc"
   },
   "outputs": [],
   "source": [
    "from langchain_openai import ChatOpenAI\n",
    "\n",
    "llm = ChatOpenAI(model=\"gpt-4o-mini\")"
   ]
  },
  {
   "cell_type": "code",
   "execution_count": 30,
   "metadata": {
    "id": "K_3Hu4K7MYuR"
   },
   "outputs": [],
   "source": [
    "from langgraph.graph import START, StateGraph\n",
    "from typing_extensions import List, TypedDict\n",
    "from langchain_core.documents import Document\n",
    "\n",
    "class State(TypedDict):\n",
    "  question: str\n",
    "  context: List[Document]\n",
    "  response: str"
   ]
  },
  {
   "cell_type": "code",
   "execution_count": 31,
   "metadata": {
    "id": "65kF2gy8MryI"
   },
   "outputs": [],
   "source": [
    "def generate(state):\n",
    "  docs_content = \"\\n\\n\".join(doc.page_content for doc in state[\"context\"])\n",
    "  messages = rag_prompt.format_messages(question=state[\"question\"], context=docs_content)\n",
    "  response = llm.invoke(messages)\n",
    "  return {\"response\" : response.content}"
   ]
  },
  {
   "cell_type": "code",
   "execution_count": null,
   "metadata": {
    "id": "CaszFkg6NFw2"
   },
   "outputs": [],
   "source": []
  },
  {
   "cell_type": "code",
   "execution_count": 32,
   "metadata": {
    "id": "AIW1Z_1Acrk6"
   },
   "outputs": [],
   "source": [
    "from langchain_qdrant import QdrantVectorStore\n",
    "from qdrant_client import QdrantClient\n",
    "from qdrant_client.http.models import Distance, VectorParams\n",
    "\n",
    "client4 = QdrantClient(\":memory:\")\n",
    "\n",
    "client4.create_collection(\n",
    "    collection_name=\"medicare_signup4\",\n",
    "    vectors_config=VectorParams(size=1024, distance=Distance.COSINE),\n",
    ")\n",
    "\n",
    "\n",
    "\n",
    "vector_store4 = QdrantVectorStore(\n",
    "    client=client4,\n",
    "    collection_name=\"medicare_signup4\",\n",
    "    embedding=embeddings4,\n",
    ")"
   ]
  },
  {
   "cell_type": "code",
   "execution_count": 33,
   "metadata": {
    "id": "Vw4HyhTsM6gw"
   },
   "outputs": [],
   "source": [
    "_ = vector_store4.add_documents(documents=split_chunks2)"
   ]
  },
  {
   "cell_type": "code",
   "execution_count": 34,
   "metadata": {
    "id": "2X_8pT47M4Dg"
   },
   "outputs": [],
   "source": [
    "retriever4 = vector_store4.as_retriever(search_kwargs={\"k\": 5})"
   ]
  },
  {
   "cell_type": "code",
   "execution_count": 35,
   "metadata": {
    "id": "dfdSOzALMxwr"
   },
   "outputs": [],
   "source": [
    "def retrieve4(state):\n",
    "  retrieved_docs = retriever4.invoke(state[\"question\"])\n",
    "  return {\"context\" : retrieved_docs}"
   ]
  },
  {
   "cell_type": "code",
   "execution_count": 36,
   "metadata": {
    "id": "K7QUVMZjMQio"
   },
   "outputs": [],
   "source": [
    "graph_builder4 = StateGraph(State).add_sequence([retrieve4, generate])\n",
    "graph_builder4.add_edge(START, \"retrieve4\")\n",
    "graph4 = graph_builder4.compile()"
   ]
  },
  {
   "cell_type": "code",
   "execution_count": 37,
   "metadata": {
    "id": "5BCKUa-FL3OA"
   },
   "outputs": [],
   "source": [
    "from langchain_openai import ChatOpenAI, OpenAIEmbeddings\n",
    "from ragas import evaluate\n",
    "from ragas.llms import LangchainLLMWrapper\n",
    "\n",
    "evaluator_llm = LangchainLLMWrapper(ChatOpenAI(model=\"gpt-4o\"))"
   ]
  },
  {
   "cell_type": "code",
   "execution_count": 38,
   "metadata": {
    "id": "bernTLSQKTiI"
   },
   "outputs": [],
   "source": [
    "import pandas as pd\n",
    "from ragas import EvaluationDataset\n",
    "import json\n",
    "import ast\n",
    "\n",
    "dataset = pd.read_csv(\"/content/drive/MyDrive/SDG.csv\")\n",
    "\n",
    "# Assuming 'reference_contexts' is a string representation of a list\n",
    "# Convert it to an actual list using ast.literal_eval or similar method\n",
    "# json.loads expects a valid JSON string, which might not be the case here.\n",
    "# ast.literal_eval is safer for evaluating strings containing Python literals.\n",
    "dataset['reference_contexts'] = dataset['reference_contexts'].apply(lambda x: ast.literal_eval(x))\n",
    "\n",
    "# Create the EvaluationDataset\n",
    "evaluation_dataset = EvaluationDataset.from_pandas(dataset)"
   ]
  },
  {
   "cell_type": "code",
   "execution_count": 43,
   "metadata": {
    "id": "NH3bUdP1J_rg"
   },
   "outputs": [],
   "source": [
    "for index, test_row in dataset.iterrows():\n",
    "  response4 = graph4.invoke({\"question\" : test_row['user_input']}) # Access 'user_input' directly\n",
    "  test_row['response'] = response4[\"response\"] # Create new columns for response and retrieved_contexts\n",
    "  test_row['retrieved_contexts'] = [context.page_content for context in response4[\"context\"]]"
   ]
  },
  {
   "cell_type": "code",
   "execution_count": 46,
   "metadata": {
    "colab": {
     "base_uri": "https://localhost:8080/"
    },
    "id": "U8Q3pbJ_P6i1",
    "outputId": "629e680e-0249-43ba-c62b-062f0f8ae0d8"
   },
   "outputs": [
    {
     "data": {
      "text/plain": [
       "{'question': 'How do I get new Medicare card if lost or damaged?',\n",
       " 'context': [Document(metadata={'source': '/content/drive/MyDrive/MedicarePilot/pdf_files/10050-medicare-and-you.pdf', 'file_path': '/content/drive/MyDrive/MedicarePilot/pdf_files/10050-medicare-and-you.pdf', 'page': 107, 'total_pages': 128, 'format': 'PDF 1.6', 'title': 'Medicare and You Handbook 2025', 'author': 'Centers for Medicare and Medicaid Services', 'subject': 'Medicare and You Handbook 2025', 'keywords': 'Medicare and You Handbook 2025; National version', 'creator': 'Adobe InDesign 20.1 (Macintosh)', 'producer': 'Adobe PDF Library 17.0', 'creationDate': \"D:20250122134726-05'00'\", 'modDate': \"D:20250214142943-05'00'\", 'trapped': '', '_id': '83170b8816844923a2c4d2e04c43119c', '_collection_name': 'medicare_signup4'}, page_content='108 Section 9: Find helpful contacts and more information\\n108\\nIf you need a new copy of your Medicare card\\nIf you need to replace your card because it’s \\ndamaged or lost, visit Medicare.gov to log into (or \\ncreate) your secure Medicare account to print or \\norder an official copy of your Medicare card. You \\ncan also call 1-800-MEDICARE (1-800-633-4227) \\nand ask for a replacement card to be sent in \\nthe mail. TTY users can call 1-877-486-2048. If \\nyou get Railroad Retirement Board (RRB) benefits, you can call 1-877-772-5772 \\nto get a replacement card. TTY users can call 1-312-751-4701.\\nIf you need to replace your card because you think that someone else is using \\nyour Medicare Number, call 1-800-MEDICARE.\\nState Health Insurance Assistance Programs (SHIPs) \\nSHIPs are state programs that get money from the federal government to \\ngive local health insurance counseling to people with Medicare. You can get \\nthis counseling at no cost to you. SHIPs aren’t connected to any insurance \\ncompany or health plan. They provide free, personalized counseling to you and \\nyour family to help with Medicare topics like these:\\n• Your Medicare rights \\n• Billing problems\\n• Complaints about your medical care or treatment\\n• Plan comparison and enrollment\\n• How Medicare works with other insurance\\n• Finding help paying for health care costs\\nCall a SHIP in your state to get free, personalized, and unbiased help \\nwith your Medicare questions, or learn how to become a volunteer SHIP \\ncounselor. Go to pages 114–117 for the phone number of your local SHIP, or \\nvisit shiphelp.org. \\nFind general Medicare information online\\nVisit Medicare.gov \\n• Get information at Medicare.gov/plan-compare about the Medicare health \\nand drug plans in your area, including what they cost and what services \\nthey provide. \\n• Find Medicare-participating doctors or other health care providers and \\nsuppliers at Medicare.gov/care-compare. You can also learn about the \\nquality of care provided by plans, nursing homes, hospitals, doctors, home \\nhealth agencies, dialysis facilities, hospice centers, inpatient rehabilitation \\nfacilities, and long-term care hospitals. \\n• Find out what Medicare covers, including preventive services (like \\nscreenings, shots or vaccines, and yearly “Wellness” visits). \\n• Get Medicare appeals information and forms.'),\n",
       "  Document(metadata={'source': '/content/drive/MyDrive/MedicarePilot/pdf_files/10050-medicare-and-you.pdf', 'file_path': '/content/drive/MyDrive/MedicarePilot/pdf_files/10050-medicare-and-you.pdf', 'page': 108, 'total_pages': 128, 'format': 'PDF 1.6', 'title': 'Medicare and You Handbook 2025', 'author': 'Centers for Medicare and Medicaid Services', 'subject': 'Medicare and You Handbook 2025', 'keywords': 'Medicare and You Handbook 2025; National version', 'creator': 'Adobe InDesign 20.1 (Macintosh)', 'producer': 'Adobe PDF Library 17.0', 'creationDate': \"D:20250122134726-05'00'\", 'modDate': \"D:20250214142943-05'00'\", 'trapped': '', '_id': 'b4b063a12c5f47da889f6193a08f96ef', '_collection_name': 'medicare_signup4'}, page_content='109\\nSection 9: Find helpful contacts and more information 109\\nGet personal Medicare information online\\nCreate your own Medicare account\\nVisit Medicare.gov to log into (or create) your secure Medicare account. You \\ncan also:\\n•\\t Add your prescriptions and pharmacies to help you better compare \\nMedicare health and drug plans in your area.\\n•\\t Sign up to get this “Medicare & You” handbook and your official Original \\nMedicare claims statements, called “Medicare Summary Notices,” \\nelectronically.\\n•\\t Review your Original Medicare claims as soon as they’re processed. \\n•\\t Print a copy of your official Medicare card.\\n•\\t Find a list of preventive services you’re eligible to get with Original \\nMedicare.\\n•\\t Learn about your Medicare premiums, and pay them online if you get a bill \\nfrom Medicare. \\nMedicare’s Connected Apps Directory\\nConnected apps are Medicare-approved applications or websites that a \\nthird party (not Medicare) creates. When you connect to an app and log in \\nwith your Medicare.gov account information, you can use the app’s services \\nwithout manually entering your health information. These third parties can \\nonly access your Medicare data if you choose to share it with them. It’s always \\nyour choice if you want to connect (or stay connected) to a third-party app.\\nWith these apps you can:\\n•\\t Share your health information with doctors, caregivers, and others.\\n•\\t View all of your health records in one place (like hospitalizations, lab results, \\nand medications).\\n•\\t Submit your health information to participate in clinical research studies. \\nNote: If you’re enrolled in a Medicare Advantage Plan, only Part D information \\nis available through Medicare connected apps. For Part A and Part B data, \\ncheck with your plan.\\nRemember: Treat your personal and health information the same way you treat \\nother confidential information. \\nTo learn about how to use Medicare-connected apps to save your Medicare \\nclaims information, visit: \\n•\\t Medicare.gov/manage-your-health/share-your-medicare-claims \\n•\\t Medicare.gov/manage-your-health/medicares-blue-button-blue-\\nbutton-20/blue-button-apps'),\n",
       "  Document(metadata={'source': '/content/drive/MyDrive/MedicarePilot/pdf_files/10050-medicare-and-you.pdf', 'file_path': '/content/drive/MyDrive/MedicarePilot/pdf_files/10050-medicare-and-you.pdf', 'page': 106, 'total_pages': 128, 'format': 'PDF 1.6', 'title': 'Medicare and You Handbook 2025', 'author': 'Centers for Medicare and Medicaid Services', 'subject': 'Medicare and You Handbook 2025', 'keywords': 'Medicare and You Handbook 2025; National version', 'creator': 'Adobe InDesign 20.1 (Macintosh)', 'producer': 'Adobe PDF Library 17.0', 'creationDate': \"D:20250122134726-05'00'\", 'modDate': \"D:20250214142943-05'00'\", 'trapped': '', '_id': 'db0720927902499fbd7b9d07228f240e', '_collection_name': 'medicare_signup4'}, page_content='107\\n107\\n Note: Go to pages 119–122 for definitions of blue words. \\nSection 9:  \\nFind helpful contacts \\nand more information \\nGet personalized help\\n1. Call us at 1-800-MEDICARE (1-800-633-4227). TTY users can call \\n1-877-486-2048. \\n2. Live chat with us at Medicare.gov/talk-to-someone.\\n3. Write us at PO Box 1270, Lawrence, KS 66044. \\nGet information 24 hours a day, including weekends \\n• Speak clearly and follow the voice prompts to pick the category that best \\nmeets your needs.\\n• Have your Medicare card in front of you, and be ready to give your Medicare \\nNumber.\\n• When asked for your Medicare Number, say the numbers and letters clearly \\none at a time.\\n• For help in a language other than English or Spanish, or to get a Medicare \\npublication in an accessible format (like large print or braille), ask the \\ncustomer service representative.\\nImportant! If you need someone (like a caregiver) to access your \\npersonal health information when they call 1-800-MEDICARE \\nYou can complete an “Authorization to Disclose Personal Health \\nInformation” form that lets Medicare give your personal health information \\nto someone other than you. To get this form in English and Spanish, visit \\nMedicare.gov/basics/forms-publications-mailings/forms/other or call \\n1-800-MEDICARE. You can also submit this form at Medicare.gov in your \\nsecure Medicare account. Medicare must process the form before the \\nauthorization becomes effective. \\nIf your household got more than one copy of “Medicare & You” \\nTo get only one copy of this handbook in the future, call 1-800-MEDICARE. \\nIf you want to stop getting paper copies in the mail, you can request this by \\nlogging into (or creating) your Medicare account at Medicare.gov.'),\n",
       "  Document(metadata={'source': '/content/drive/MyDrive/MedicarePilot/pdf_files/10050-medicare-and-you.pdf', 'file_path': '/content/drive/MyDrive/MedicarePilot/pdf_files/10050-medicare-and-you.pdf', 'page': 104, 'total_pages': 128, 'format': 'PDF 1.6', 'title': 'Medicare and You Handbook 2025', 'author': 'Centers for Medicare and Medicaid Services', 'subject': 'Medicare and You Handbook 2025', 'keywords': 'Medicare and You Handbook 2025; National version', 'creator': 'Adobe InDesign 20.1 (Macintosh)', 'producer': 'Adobe PDF Library 17.0', 'creationDate': \"D:20250122134726-05'00'\", 'modDate': \"D:20250214142943-05'00'\", 'trapped': '', '_id': '6baf9cd229e14deea0aa3150b22d84d0', '_collection_name': 'medicare_signup4'}, page_content='105\\nSection 8: Your Medicare rights & protections 105\\nThe law requires us to follow the terms in this notice. We have the right to \\nchange the way we use or share your information. If we make a change, \\nwe’ll mail you a notice within 60 days of the change. \\nThe Notice of Privacy Practices for Original Medicare became effective \\nSeptember 23, 2013.\\nHow can I protect myself from fraud and medical identity \\ntheft?\\nMedical identity theft is when someone steals or uses your personal \\ninformation (like your name, Social Security Number, or Medicare Number) to \\nsubmit fraudulent claims to Medicare and other health insurance companies \\nwithout your permission. When you get health care services, record the dates \\non a calendar and save the receipts and statements you get from providers \\nto check for mistakes. If you think there’s an error or a provider bills you for \\nservices you didn’t get, take these steps to find out what was billed: \\n• Check your “Medicare Summary Notice” (MSN) if you have Original \\nMedicare to find out if the service was billed to Medicare. If you’re in a \\nMedicare health plan, check the statements you get from your plan. \\n• Log into (or create) your secure Medicare account at Medicare.gov to \\nreview your Medicare claims if you have Original Medicare. Your claims are \\ngenerally available online within 24 hours after processing. You can also \\ndownload your claims data from your Medicare.gov account by going to \\n‘Download my claims & personal data’ under ‘My account.’ You can also call \\n1-800-MEDICARE (1-800-633-4227). TTY users can call 1-877-486-2048. \\n• If you know the health care provider or supplier, call and ask for an itemized \\nstatement. They should give this to you within 30 days. \\nIf you’ve contacted the provider and you suspect that Medicare is being \\ncharged for a service or supply that you didn’t get, or you don’t know the \\nprovider on the claim, call 1-800-MEDICARE. \\nYou can also call 1-800-MEDICARE if you believe your Medicare Number has \\nbeen used fraudulently. \\nOnly give personal information, like your Medicare Number, to doctors, \\ninsurance companies (and their licensed agents or brokers), or plans acting \\non your behalf; or trusted people in the community who work with Medicare \\nlike your State Health Insurance Assistance Program (SHIP). Don’t share \\nyour Medicare Number or other personal information with any unsolicited \\nperson who contacts you by phone, email, or in person. Medicare, or your \\nMedicare plan representative, will only call you in limited situations: \\n• A Medicare plan can call you if you’re already a member of the plan. The \\nagent who helped you join can also call you.\\n• A customer service representative from 1-800-MEDICARE can call you if \\nyou’ve left a message, or a representative said that someone would call you \\nback.'),\n",
       "  Document(metadata={'source': '/content/drive/MyDrive/MedicarePilot/pdf_files/10050-medicare-and-you.pdf', 'file_path': '/content/drive/MyDrive/MedicarePilot/pdf_files/10050-medicare-and-you.pdf', 'page': 24, 'total_pages': 128, 'format': 'PDF 1.6', 'title': 'Medicare and You Handbook 2025', 'author': 'Centers for Medicare and Medicaid Services', 'subject': 'Medicare and You Handbook 2025', 'keywords': 'Medicare and You Handbook 2025; National version', 'creator': 'Adobe InDesign 20.1 (Macintosh)', 'producer': 'Adobe PDF Library 17.0', 'creationDate': \"D:20250122134726-05'00'\", 'modDate': \"D:20250214142943-05'00'\", 'trapped': '', '_id': 'c9a416e18e6b41b995ba2f6d1a8a1f75', '_collection_name': 'medicare_signup4'}, page_content='25\\n25\\n Note: Go to pages 119–122 for definitions of blue words. \\nSection 2:  \\nFind out what Medicare \\ncovers\\nWhat services does Medicare cover? \\nIn this section, you’ll find information about the items, tests, and services \\nthat Original Medicare (Part A and Part B) covers in hospitals, doctors’ \\noffices, and other health care facilities. You may be eligible for the \\nMedicare-covered services in this section if you have both Part A and \\nPart B.\\nIf you have Original Medicare, you’ll use your red, white, and blue Medicare \\ncard to get your Medicare-covered services. Your Medicare card shows \\nwhether you have Part A (listed as HOSPITAL), Part B (listed as MEDICAL), or \\nboth, and the date your coverage begins. \\nImportant! If you join a Medicare Advantage Plan or other Medicare \\nhealth plan, make sure to share your plan’s card with your provider to get \\nMedicare-covered services.\\nNote: If you’re not lawfully present in the U.S., Medicare won’t pay your \\nPart A and Part B claims, and you can’t join a Medicare Advantage Plan or a \\nMedicare drug plan.\\nWhat does Part A cover? \\nPart A (Hospital Insurance) helps cover: \\n• Inpatient care in a hospital \\n• Skilled nursing facility care\\n• Hospice care \\n• Home health care \\nPages 26–29 list common services Part A covers and general descriptions. \\nFor more information on Part A-covered services, visit Medicare.gov/coverage.')],\n",
       " 'response': \"If you've lost or damaged your Medicare card, you can easily obtain a replacement by following these steps:\\n\\n1. **Visit Medicare.gov**: Log into your secure Medicare account to print or order a new official copy of your Medicare card. If you don't have an account, you can create one on the website.\\n\\n2. **Call 1-800-MEDICARE**: You can also request a replacement card over the phone by calling 1-800-MEDICARE (1-800-633-4227). If you use TTY (a text telephone device for the deaf or hard of hearing), you can call 1-877-486-2048 for assistance.\\n\\n3. **For Railroad Retirement Board (RRB) beneficiaries**: If you receive RRB benefits, you should call 1-877-772-5772 to request your replacement card. TTY users can reach them at 1-312-751-4701.\\n\\n4. **If you suspect fraud**: If you think someone else is using your Medicare Number, immediately call 1-800-MEDICARE for assistance.\\n\\nBy following these steps, you should be able to get a new Medicare card without much hassle. If you need additional help, consider reaching out to your local State Health Insurance Assistance Program (SHIP), which offers free, personalized counseling on Medicare-related issues.\"}"
      ]
     },
     "execution_count": 46,
     "metadata": {},
     "output_type": "execute_result"
    }
   ],
   "source": [
    "response4"
   ]
  },
  {
   "cell_type": "code",
   "execution_count": 48,
   "metadata": {
    "id": "wbd5_-RiQTqv"
   },
   "outputs": [],
   "source": [
    "from ragas import EvaluationDataset\n",
    "\n",
    "evaluation_dataset = EvaluationDataset.from_pandas(dataset)"
   ]
  },
  {
   "cell_type": "code",
   "execution_count": 50,
   "metadata": {
    "colab": {
     "base_uri": "https://localhost:8080/"
    },
    "id": "QjwPrj-vQbYc",
    "outputId": "480d3895-2fff-43e0-c7ad-f66a52653c3c"
   },
   "outputs": [
    {
     "data": {
      "text/plain": [
       "EvaluationDataset(features=['user_input', 'reference_contexts', 'reference'], len=8)"
      ]
     },
     "execution_count": 50,
     "metadata": {},
     "output_type": "execute_result"
    }
   ],
   "source": [
    "evaluation_dataset"
   ]
  },
  {
   "cell_type": "code",
   "execution_count": 49,
   "metadata": {
    "colab": {
     "base_uri": "https://localhost:8080/",
     "height": 503
    },
    "id": "d4hOSO9SPpGg",
    "outputId": "0dddb1be-cfce-42bf-9b35-9e5ed79d34f0"
   },
   "outputs": [
    {
     "ename": "ValueError",
     "evalue": "The metric [context_recall] that is used requires the following additional columns ['retrieved_contexts'] to be present in the dataset.",
     "output_type": "error",
     "traceback": [
      "\u001b[0;31m---------------------------------------------------------------------------\u001b[0m",
      "\u001b[0;31mValueError\u001b[0m                                Traceback (most recent call last)",
      "\u001b[0;32m<ipython-input-49-61359c5002b9>\u001b[0m in \u001b[0;36m<cell line: 0>\u001b[0;34m()\u001b[0m\n\u001b[1;32m      5\u001b[0m \u001b[0mcustom_run_config\u001b[0m \u001b[0;34m=\u001b[0m \u001b[0mRunConfig\u001b[0m\u001b[0;34m(\u001b[0m\u001b[0mtimeout\u001b[0m\u001b[0;34m=\u001b[0m\u001b[0;36m360\u001b[0m\u001b[0;34m)\u001b[0m\u001b[0;34m\u001b[0m\u001b[0;34m\u001b[0m\u001b[0m\n\u001b[1;32m      6\u001b[0m \u001b[0;34m\u001b[0m\u001b[0m\n\u001b[0;32m----> 7\u001b[0;31m result4 = evaluate(\n\u001b[0m\u001b[1;32m      8\u001b[0m     \u001b[0mdataset\u001b[0m\u001b[0;34m=\u001b[0m\u001b[0mevaluation_dataset\u001b[0m\u001b[0;34m,\u001b[0m\u001b[0;34m\u001b[0m\u001b[0;34m\u001b[0m\u001b[0m\n\u001b[1;32m      9\u001b[0m     \u001b[0mmetrics\u001b[0m\u001b[0;34m=\u001b[0m\u001b[0;34m[\u001b[0m\u001b[0mLLMContextRecall\u001b[0m\u001b[0;34m(\u001b[0m\u001b[0;34m)\u001b[0m\u001b[0;34m,\u001b[0m \u001b[0mFaithfulness\u001b[0m\u001b[0;34m(\u001b[0m\u001b[0;34m)\u001b[0m\u001b[0;34m,\u001b[0m \u001b[0mFactualCorrectness\u001b[0m\u001b[0;34m(\u001b[0m\u001b[0;34m)\u001b[0m\u001b[0;34m,\u001b[0m \u001b[0mResponseRelevancy\u001b[0m\u001b[0;34m(\u001b[0m\u001b[0;34m)\u001b[0m\u001b[0;34m,\u001b[0m \u001b[0mContextEntityRecall\u001b[0m\u001b[0;34m(\u001b[0m\u001b[0;34m)\u001b[0m\u001b[0;34m,\u001b[0m \u001b[0mNoiseSensitivity\u001b[0m\u001b[0;34m(\u001b[0m\u001b[0;34m)\u001b[0m\u001b[0;34m]\u001b[0m\u001b[0;34m,\u001b[0m\u001b[0;34m\u001b[0m\u001b[0;34m\u001b[0m\u001b[0m\n",
      "\u001b[0;32m/usr/local/lib/python3.11/dist-packages/ragas/_analytics.py\u001b[0m in \u001b[0;36mwrapper\u001b[0;34m(*args, **kwargs)\u001b[0m\n\u001b[1;32m    225\u001b[0m     \u001b[0;32mdef\u001b[0m \u001b[0mwrapper\u001b[0m\u001b[0;34m(\u001b[0m\u001b[0;34m*\u001b[0m\u001b[0margs\u001b[0m\u001b[0;34m:\u001b[0m \u001b[0mP\u001b[0m\u001b[0;34m.\u001b[0m\u001b[0margs\u001b[0m\u001b[0;34m,\u001b[0m \u001b[0;34m**\u001b[0m\u001b[0mkwargs\u001b[0m\u001b[0;34m:\u001b[0m \u001b[0mP\u001b[0m\u001b[0;34m.\u001b[0m\u001b[0mkwargs\u001b[0m\u001b[0;34m)\u001b[0m \u001b[0;34m->\u001b[0m \u001b[0mt\u001b[0m\u001b[0;34m.\u001b[0m\u001b[0mAny\u001b[0m\u001b[0;34m:\u001b[0m\u001b[0;34m\u001b[0m\u001b[0;34m\u001b[0m\u001b[0m\n\u001b[1;32m    226\u001b[0m         \u001b[0mtrack\u001b[0m\u001b[0;34m(\u001b[0m\u001b[0mIsCompleteEvent\u001b[0m\u001b[0;34m(\u001b[0m\u001b[0mevent_type\u001b[0m\u001b[0;34m=\u001b[0m\u001b[0mfunc\u001b[0m\u001b[0;34m.\u001b[0m\u001b[0m__name__\u001b[0m\u001b[0;34m,\u001b[0m \u001b[0mis_completed\u001b[0m\u001b[0;34m=\u001b[0m\u001b[0;32mFalse\u001b[0m\u001b[0;34m)\u001b[0m\u001b[0;34m)\u001b[0m\u001b[0;34m\u001b[0m\u001b[0;34m\u001b[0m\u001b[0m\n\u001b[0;32m--> 227\u001b[0;31m         \u001b[0mresult\u001b[0m \u001b[0;34m=\u001b[0m \u001b[0mfunc\u001b[0m\u001b[0;34m(\u001b[0m\u001b[0;34m*\u001b[0m\u001b[0margs\u001b[0m\u001b[0;34m,\u001b[0m \u001b[0;34m**\u001b[0m\u001b[0mkwargs\u001b[0m\u001b[0;34m)\u001b[0m\u001b[0;34m\u001b[0m\u001b[0;34m\u001b[0m\u001b[0m\n\u001b[0m\u001b[1;32m    228\u001b[0m         \u001b[0mtrack\u001b[0m\u001b[0;34m(\u001b[0m\u001b[0mIsCompleteEvent\u001b[0m\u001b[0;34m(\u001b[0m\u001b[0mevent_type\u001b[0m\u001b[0;34m=\u001b[0m\u001b[0mfunc\u001b[0m\u001b[0;34m.\u001b[0m\u001b[0m__name__\u001b[0m\u001b[0;34m,\u001b[0m \u001b[0mis_completed\u001b[0m\u001b[0;34m=\u001b[0m\u001b[0;32mTrue\u001b[0m\u001b[0;34m)\u001b[0m\u001b[0;34m)\u001b[0m\u001b[0;34m\u001b[0m\u001b[0;34m\u001b[0m\u001b[0m\n\u001b[1;32m    229\u001b[0m \u001b[0;34m\u001b[0m\u001b[0m\n",
      "\u001b[0;32m/usr/local/lib/python3.11/dist-packages/ragas/evaluation.py\u001b[0m in \u001b[0;36mevaluate\u001b[0;34m(dataset, metrics, llm, embeddings, callbacks, run_config, token_usage_parser, raise_exceptions, column_map, show_progress, batch_size, _run_id, _pbar)\u001b[0m\n\u001b[1;32m    175\u001b[0m \u001b[0;34m\u001b[0m\u001b[0m\n\u001b[1;32m    176\u001b[0m     \u001b[0;32mif\u001b[0m \u001b[0misinstance\u001b[0m\u001b[0;34m(\u001b[0m\u001b[0mdataset\u001b[0m\u001b[0;34m,\u001b[0m \u001b[0mEvaluationDataset\u001b[0m\u001b[0;34m)\u001b[0m\u001b[0;34m:\u001b[0m\u001b[0;34m\u001b[0m\u001b[0;34m\u001b[0m\u001b[0m\n\u001b[0;32m--> 177\u001b[0;31m         \u001b[0mvalidate_required_columns\u001b[0m\u001b[0;34m(\u001b[0m\u001b[0mdataset\u001b[0m\u001b[0;34m,\u001b[0m \u001b[0mmetrics\u001b[0m\u001b[0;34m)\u001b[0m\u001b[0;34m\u001b[0m\u001b[0;34m\u001b[0m\u001b[0m\n\u001b[0m\u001b[1;32m    178\u001b[0m         \u001b[0mvalidate_supported_metrics\u001b[0m\u001b[0;34m(\u001b[0m\u001b[0mdataset\u001b[0m\u001b[0;34m,\u001b[0m \u001b[0mmetrics\u001b[0m\u001b[0;34m)\u001b[0m\u001b[0;34m\u001b[0m\u001b[0;34m\u001b[0m\u001b[0m\n\u001b[1;32m    179\u001b[0m \u001b[0;34m\u001b[0m\u001b[0m\n",
      "\u001b[0;32m/usr/local/lib/python3.11/dist-packages/ragas/validation.py\u001b[0m in \u001b[0;36mvalidate_required_columns\u001b[0;34m(ds, metrics)\u001b[0m\n\u001b[1;32m     61\u001b[0m         \u001b[0mavailable_columns\u001b[0m \u001b[0;34m=\u001b[0m \u001b[0mset\u001b[0m\u001b[0;34m(\u001b[0m\u001b[0mds\u001b[0m\u001b[0;34m.\u001b[0m\u001b[0mfeatures\u001b[0m\u001b[0;34m(\u001b[0m\u001b[0;34m)\u001b[0m\u001b[0;34m)\u001b[0m\u001b[0;34m\u001b[0m\u001b[0;34m\u001b[0m\u001b[0m\n\u001b[1;32m     62\u001b[0m         \u001b[0;32mif\u001b[0m \u001b[0;32mnot\u001b[0m \u001b[0mrequired_columns\u001b[0m\u001b[0;34m.\u001b[0m\u001b[0missubset\u001b[0m\u001b[0;34m(\u001b[0m\u001b[0mavailable_columns\u001b[0m\u001b[0;34m)\u001b[0m\u001b[0;34m:\u001b[0m\u001b[0;34m\u001b[0m\u001b[0;34m\u001b[0m\u001b[0m\n\u001b[0;32m---> 63\u001b[0;31m             raise ValueError(\n\u001b[0m\u001b[1;32m     64\u001b[0m                 \u001b[0;34mf\"The metric [{m.name}] that is used requires the following \"\u001b[0m\u001b[0;34m\u001b[0m\u001b[0;34m\u001b[0m\u001b[0m\n\u001b[1;32m     65\u001b[0m                 \u001b[0;34mf\"additional columns {list(required_columns - available_columns)} \"\u001b[0m\u001b[0;34m\u001b[0m\u001b[0;34m\u001b[0m\u001b[0m\n",
      "\u001b[0;31mValueError\u001b[0m: The metric [context_recall] that is used requires the following additional columns ['retrieved_contexts'] to be present in the dataset."
     ]
    }
   ],
   "source": [
    "#Chunk size - 1000 tokens\n",
    "from ragas.metrics import LLMContextRecall, Faithfulness, FactualCorrectness, ResponseRelevancy, ContextEntityRecall, NoiseSensitivity\n",
    "from ragas import evaluate, RunConfig\n",
    "\n",
    "custom_run_config = RunConfig(timeout=360)\n",
    "\n",
    "result4 = evaluate(\n",
    "    dataset=evaluation_dataset,\n",
    "    metrics=[LLMContextRecall(), Faithfulness(), FactualCorrectness(), ResponseRelevancy(), ContextEntityRecall(), NoiseSensitivity()],\n",
    "    llm=evaluator_llm,\n",
    "    run_config=custom_run_config\n",
    ")\n",
    "result4"
   ]
  }
 ],
 "metadata": {
  "accelerator": "GPU",
  "colab": {
   "gpuType": "L4",
   "provenance": []
  },
  "kernelspec": {
   "display_name": "Python 3",
   "name": "python3"
  },
  "language_info": {
   "name": "python"
  }
 },
 "nbformat": 4,
 "nbformat_minor": 0
}
